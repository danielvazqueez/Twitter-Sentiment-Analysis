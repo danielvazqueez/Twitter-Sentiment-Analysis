{
  "nbformat": 4,
  "nbformat_minor": 0,
  "metadata": {
    "colab": {
      "name": "C-LSTM",
      "provenance": [],
      "collapsed_sections": [],
      "toc_visible": true
    },
    "kernelspec": {
      "name": "python3",
      "display_name": "Python 3"
    },
    "accelerator": "GPU"
  },
  "cells": [
    {
      "cell_type": "markdown",
      "metadata": {
        "id": "4u7rbwmMejvM"
      },
      "source": [
        "# Twitter Sentiments analysis with an LSTM"
      ]
    },
    {
      "cell_type": "markdown",
      "metadata": {
        "id": "Af8wPwUyfV5K"
      },
      "source": [
        "## Load Packages"
      ]
    },
    {
      "cell_type": "markdown",
      "metadata": {
        "id": "RkyBUx4RfkZm"
      },
      "source": [
        "We will use nltk to prepare the data and tensorflow for the model."
      ]
    },
    {
      "cell_type": "code",
      "metadata": {
        "id": "UP0TEO5I22Ic",
        "outputId": "6f83b399-e63e-46e6-ccb2-f4ae5d90ca3e",
        "colab": {
          "base_uri": "https://localhost:8080/",
          "height": 69
        }
      },
      "source": [
        "import matplotlib.pyplot as plt\n",
        "import pandas as pd\n",
        "import numpy as np\n",
        "\n",
        "\n",
        "import nltk\n",
        "nltk.download('stopwords')\n",
        "from nltk.corpus import stopwords\n",
        "from nltk.tokenize import TweetTokenizer\n",
        "from nltk.stem import SnowballStemmer\n",
        "\n",
        "\n",
        "import re\n",
        "import pickle\n",
        "\n",
        "import tensorflow as tf\n",
        "from sklearn.model_selection import train_test_split\n",
        "from sklearn.preprocessing import LabelEncoder\n",
        "\n",
        "print(\"Tensorflow Version\",tf.__version__)"
      ],
      "execution_count": 11,
      "outputs": [
        {
          "output_type": "stream",
          "text": [
            "[nltk_data] Downloading package stopwords to /root/nltk_data...\n",
            "[nltk_data]   Package stopwords is already up-to-date!\n",
            "Tensorflow Version 2.3.0\n"
          ],
          "name": "stdout"
        }
      ]
    },
    {
      "cell_type": "markdown",
      "metadata": {
        "id": "cX7Ff_0ifxls"
      },
      "source": [
        "## Load Data "
      ]
    },
    {
      "cell_type": "code",
      "metadata": {
        "id": "D-vWgFYD3YOi",
        "outputId": "2a4109ed-92f6-40f6-9d18-fd165c59347d",
        "colab": {
          "base_uri": "https://localhost:8080/",
          "height": 202
        }
      },
      "source": [
        "df = pd.read_csv('drive/My Drive/Colab Notebooks/training.1600000.processed.noemoticon.csv',\n",
        "                 encoding = 'latin-1',header=None)\n",
        "# Label the columns of our dataset\n",
        "df.columns = ['sentiment', 'id', 'date', 'query', 'user_id', 'text']\n",
        "# Drop the columns that we won't need\n",
        "df = df.drop(['id', 'date', 'query', 'user_id'], axis=1)\n",
        "# For this example, we are only keeping 3% of the data but ideally\n",
        "# we will train with the whole dataset if we had the computation power\n",
        "\n",
        "# Dictionary to replace the numbers to a Binary classification\n",
        "lab_to_sentiment = {0:\"Negative\", 4:\"Positive\"}\n",
        "def label_decoder(label):\n",
        "  return lab_to_sentiment[label]\n",
        "\n",
        "# We replace the sentiment values with our binary classification\n",
        "df.sentiment = df.sentiment.apply(lambda x: label_decoder(x))\n",
        "\n",
        "# Print the final data\n",
        "df.head()"
      ],
      "execution_count": 12,
      "outputs": [
        {
          "output_type": "execute_result",
          "data": {
            "text/html": [
              "<div>\n",
              "<style scoped>\n",
              "    .dataframe tbody tr th:only-of-type {\n",
              "        vertical-align: middle;\n",
              "    }\n",
              "\n",
              "    .dataframe tbody tr th {\n",
              "        vertical-align: top;\n",
              "    }\n",
              "\n",
              "    .dataframe thead th {\n",
              "        text-align: right;\n",
              "    }\n",
              "</style>\n",
              "<table border=\"1\" class=\"dataframe\">\n",
              "  <thead>\n",
              "    <tr style=\"text-align: right;\">\n",
              "      <th></th>\n",
              "      <th>sentiment</th>\n",
              "      <th>text</th>\n",
              "    </tr>\n",
              "  </thead>\n",
              "  <tbody>\n",
              "    <tr>\n",
              "      <th>0</th>\n",
              "      <td>Negative</td>\n",
              "      <td>@switchfoot http://twitpic.com/2y1zl - Awww, t...</td>\n",
              "    </tr>\n",
              "    <tr>\n",
              "      <th>1</th>\n",
              "      <td>Negative</td>\n",
              "      <td>is upset that he can't update his Facebook by ...</td>\n",
              "    </tr>\n",
              "    <tr>\n",
              "      <th>2</th>\n",
              "      <td>Negative</td>\n",
              "      <td>@Kenichan I dived many times for the ball. Man...</td>\n",
              "    </tr>\n",
              "    <tr>\n",
              "      <th>3</th>\n",
              "      <td>Negative</td>\n",
              "      <td>my whole body feels itchy and like its on fire</td>\n",
              "    </tr>\n",
              "    <tr>\n",
              "      <th>4</th>\n",
              "      <td>Negative</td>\n",
              "      <td>@nationwideclass no, it's not behaving at all....</td>\n",
              "    </tr>\n",
              "  </tbody>\n",
              "</table>\n",
              "</div>"
            ],
            "text/plain": [
              "  sentiment                                               text\n",
              "0  Negative  @switchfoot http://twitpic.com/2y1zl - Awww, t...\n",
              "1  Negative  is upset that he can't update his Facebook by ...\n",
              "2  Negative  @Kenichan I dived many times for the ball. Man...\n",
              "3  Negative    my whole body feels itchy and like its on fire \n",
              "4  Negative  @nationwideclass no, it's not behaving at all...."
            ]
          },
          "metadata": {
            "tags": []
          },
          "execution_count": 12
        }
      ]
    },
    {
      "cell_type": "markdown",
      "metadata": {
        "id": "HXJP24xBgArl"
      },
      "source": [
        "## Visualize Data"
      ]
    },
    {
      "cell_type": "code",
      "metadata": {
        "id": "lgc0v_cO3qdx",
        "outputId": "c442a8a8-225f-4069-fee3-55b195a69d8a",
        "colab": {
          "base_uri": "https://localhost:8080/",
          "height": 298
        }
      },
      "source": [
        "# Graph of how the dataset is distributed\n",
        "val_count = df.sentiment.value_counts()\n",
        "plt.figure(figsize=(8,4))\n",
        "plt.bar(val_count.index, val_count.values)\n",
        "plt.title(\"Sentiment Data Distribution\")"
      ],
      "execution_count": 13,
      "outputs": [
        {
          "output_type": "execute_result",
          "data": {
            "text/plain": [
              "Text(0.5, 1.0, 'Sentiment Data Distribution')"
            ]
          },
          "metadata": {
            "tags": []
          },
          "execution_count": 13
        },
        {
          "output_type": "display_data",
          "data": {
            "image/png": "[encoded data removed]",
            "text/plain": [
              "<Figure size 576x288 with 1 Axes>"
            ]
          },
          "metadata": {
            "tags": [],
            "needs_background": "light"
          }
        }
      ]
    },
    {
      "cell_type": "markdown",
      "metadata": {
        "id": "LBYskH9PgF-j"
      },
      "source": [
        "## Preprocessing of the data\n",
        "\n",
        "We process the data to get rid of noisy values + tokenize the words on the tweets correctly"
      ]
    },
    {
      "cell_type": "code",
      "metadata": {
        "id": "hGEupjGm3wPO"
      },
      "source": [
        "# We load stop words from nltk corpus\n",
        "# They are words that are very repetitive and do not add meaning to the text\n",
        "stop_words = stopwords.words('english')\n",
        "# Stemmer change the words to their roots\n",
        "stemmer = SnowballStemmer('english')\n",
        "# We clean the text from url, that will not provide important information\n",
        "text_cleaning_re = \"@\\S+|https?:\\S+|http?:\\S|[^A-Za-z0-9]+\"\n"
      ],
      "execution_count": 14,
      "outputs": []
    },
    {
      "cell_type": "code",
      "metadata": {
        "id": "rpOqF3E63xWr"
      },
      "source": [
        "# We use a tokenizer focused for Twitter\n",
        "tknzr = TweetTokenizer()\n",
        "all_words = []\n",
        "# Not is removed because it gives important information\n",
        "# for positive or negative clasification\n",
        "stop_words.remove('not')\n",
        "\n",
        "def preprocess(text, stem=False):\n",
        "  # We get rid of the links on the tweets + lowercase + blank spaces at the end and beginning\n",
        "  text = re.sub(text_cleaning_re, ' ', str(text).lower()).strip()\n",
        "  tokens = []\n",
        "  # The tweets are splited into words\n",
        "  words = tknzr.tokenize(text)\n",
        "  # isn´t, ain´t, every word with nt or t is not removed from the tweet\n",
        "  for token in words:\n",
        "    if \"'t\" in token or \"'nt\" in token:\n",
        "      token = \"not\"\n",
        "      # we get rid of stop_words\n",
        "    if token not in stop_words:\n",
        "      if stem:\n",
        "        # We use steam for every word\n",
        "        tokens.append(stemmer.stem(token))\n",
        "      else:\n",
        "        tokens.append(token)\n",
        "  return \" \".join(tokens)\n",
        "\n",
        "# we aplly the function that we just create for every row\n",
        "df.text = df.text.apply(lambda x: preprocess(x))"
      ],
      "execution_count": 15,
      "outputs": []
    },
    {
      "cell_type": "markdown",
      "metadata": {
        "id": "Z2MWcI-No5Uf"
      },
      "source": [
        "Separate, tokenize and put into sequences the data"
      ]
    },
    {
      "cell_type": "code",
      "metadata": {
        "id": "lUiyexKn4c-f"
      },
      "source": [
        "# 0.8 of the data for train and 0.2 for test\n",
        "TRAIN_SIZE = 0.8\n",
        "# Max quantity of words\n",
        "MAX_NB_WORDS = 100000\n",
        "# Max sequence length\n",
        "MAX_SEQUENCE_LENGTH = 50"
      ],
      "execution_count": 16,
      "outputs": []
    },
    {
      "cell_type": "code",
      "metadata": {
        "id": "itKPR11I4loH",
        "outputId": "33725c3a-fff9-4581-e250-56f4dff90b49",
        "colab": {
          "base_uri": "https://localhost:8080/",
          "height": 52
        }
      },
      "source": [
        "# Splits Dataset into Training and Testing set\n",
        "train_data, test_data = train_test_split(df, test_size=1-TRAIN_SIZE, random_state=0) \n",
        "print(\"Train Data size:\", len(train_data))\n",
        "print(\"Test Data size\", len(test_data))"
      ],
      "execution_count": 17,
      "outputs": [
        {
          "output_type": "stream",
          "text": [
            "Train Data size: 1280000\n",
            "Test Data size 320000\n"
          ],
          "name": "stdout"
        }
      ]
    },
    {
      "cell_type": "code",
      "metadata": {
        "id": "m-wBpBBq4mkB",
        "outputId": "f3b820fa-0931-4623-8b70-46af151847d7",
        "colab": {
          "base_uri": "https://localhost:8080/",
          "height": 34
        }
      },
      "source": [
        "from keras.preprocessing.text import Tokenizer\n",
        "# In order to represent word in a way that computer understand\n",
        "# is used Tokenizer, that encode words with ACSII\n",
        "tokenizer = Tokenizer(oov_token='<00V>')\n",
        "tokenizer.fit_on_texts(train_data.text)\n",
        "\n",
        "# The encoding is saved in a dictionary\n",
        "# word_index are the words\n",
        "word_index = tokenizer.word_index\n",
        "# Quantity of differents words used\n",
        "vocab_size = len(tokenizer.word_index) + 1\n",
        "print(\"Vocabulary Size :\", vocab_size)"
      ],
      "execution_count": 18,
      "outputs": [
        {
          "output_type": "stream",
          "text": [
            "Vocabulary Size : 287049\n"
          ],
          "name": "stdout"
        }
      ]
    },
    {
      "cell_type": "code",
      "metadata": {
        "id": "N8mi834G4rmB",
        "outputId": "7ccbab24-8069-40f8-e938-d9e18cfd1e1a",
        "colab": {
          "base_uri": "https://localhost:8080/",
          "height": 52
        }
      },
      "source": [
        "from keras.preprocessing.sequence import pad_sequences\n",
        "\n",
        "# Now that the words are encoded, it is represented in setences\n",
        "# Also, the setences are united with a same length (50)\n",
        "x_train = pad_sequences(tokenizer.texts_to_sequences(train_data.text), padding = 'post', \n",
        "                        maxlen = MAX_SEQUENCE_LENGTH)\n",
        "x_test = pad_sequences(tokenizer.texts_to_sequences(test_data.text), padding = 'post',\n",
        "                       maxlen = MAX_SEQUENCE_LENGTH )\n",
        "\n",
        "print(\"Training X Shape:\",x_train.shape)\n",
        "print(\"Testing X Shape:\",x_test.shape)"
      ],
      "execution_count": 19,
      "outputs": [
        {
          "output_type": "stream",
          "text": [
            "Training X Shape: (1280000, 50)\n",
            "Testing X Shape: (320000, 50)\n"
          ],
          "name": "stdout"
        }
      ]
    },
    {
      "cell_type": "code",
      "metadata": {
        "id": "VAxN20ia4tPJ",
        "outputId": "20c5e646-95b2-46ae-cded-00daaa88e21a",
        "colab": {
          "base_uri": "https://localhost:8080/",
          "height": 34
        }
      },
      "source": [
        "# Differents categories\n",
        "labels = train_data.sentiment.unique().tolist()\n",
        "print(labels)"
      ],
      "execution_count": 20,
      "outputs": [
        {
          "output_type": "stream",
          "text": [
            "['Positive', 'Negative']\n"
          ],
          "name": "stdout"
        }
      ]
    },
    {
      "cell_type": "code",
      "metadata": {
        "id": "fTFaE9ho4u0R",
        "outputId": "61895a47-ba75-4887-96e0-d22491681690",
        "colab": {
          "base_uri": "https://localhost:8080/",
          "height": 173
        }
      },
      "source": [
        "# Categories are encoded\n",
        "encoder = LabelEncoder()\n",
        "encoder.fit(train_data.sentiment.to_list())\n",
        "\n",
        "# Then, applying this encoding to the data set\n",
        "\n",
        "y_train = encoder.transform(train_data.sentiment.to_list())\n",
        "y_test = encoder.transform(test_data.sentiment.to_list())\n",
        "\n",
        "# We give a form for processing\n",
        "y_train = y_train.reshape(-1,1)\n",
        "y_test = y_test.reshape(-1,1)\n",
        "\n",
        "print(\"y_train shape:\", y_train.shape)\n",
        "print(y_train)\n",
        "print(\"y_test shape:\", y_test.shape)"
      ],
      "execution_count": 21,
      "outputs": [
        {
          "output_type": "stream",
          "text": [
            "y_train shape: (1280000, 1)\n",
            "[[1]\n",
            " [1]\n",
            " [1]\n",
            " ...\n",
            " [0]\n",
            " [1]\n",
            " [0]]\n",
            "y_test shape: (320000, 1)\n"
          ],
          "name": "stdout"
        }
      ]
    },
    {
      "cell_type": "markdown",
      "metadata": {
        "id": "qgTVNzHnpXR0"
      },
      "source": [
        "## Import a pretrained model for embbeding\n"
      ]
    },
    {
      "cell_type": "code",
      "metadata": {
        "id": "BagSLTcy4wRq"
      },
      "source": [
        "# Embedder represents in vectors the meaning of the words\n",
        "# it establishes a relationship between words in textual data\n",
        "# So, similar words will have a similar vector \n",
        "# Embedding is a slow processing and requires a lot of training data\n",
        "# We will use a pre-trained free model: Glove_EMB embedder\n",
        "# It has 200 dimensional word vectors for 1M words specific for Twitter\n",
        "\n",
        "\n",
        "GLOVE_EMB = 'drive/My Drive/Colab Notebooks/glove.twitter.27B.200d.txt'\n",
        "\n",
        "# Embedding dimension\n",
        "EMBEDDING_DIM = 200\n",
        "# Learning rate\n",
        "LR = 0.01\n",
        "# Size of batch\n",
        "BATCH_SIZE = 1024\n",
        "# Quantity of ephocs\n",
        "EPOCHS = 12"
      ],
      "execution_count": 37,
      "outputs": []
    },
    {
      "cell_type": "code",
      "metadata": {
        "id": "3kuJzEMb8jk5",
        "outputId": "ef6f0933-5ed6-438c-8a96-9be301dfbc78",
        "colab": {
          "base_uri": "https://localhost:8080/",
          "height": 34
        }
      },
      "source": [
        "# Charging our embedding\n",
        "\n",
        "embeddings_index = {}\n",
        "\n",
        "f = open(GLOVE_EMB)\n",
        "# For each word there is a 300 dimensional vector\n",
        "# It is charger into a dictionary:\n",
        "for line in f:\n",
        "  # Separates the line\n",
        "  values = line.split()\n",
        "  # value is the corresponding word\n",
        "  word = value = values[0]\n",
        "  # Coefs will be the vector\n",
        "  coefs = np.asarray(values[1:], dtype='float32')\n",
        "  # The dictionary is united\n",
        "  embeddings_index[word] = coefs\n",
        "f.close()\n",
        "\n",
        "print('Found %s word vectors.' %len(embeddings_index))"
      ],
      "execution_count": 23,
      "outputs": [
        {
          "output_type": "stream",
          "text": [
            "Found 1193514 word vectors.\n"
          ],
          "name": "stdout"
        }
      ]
    },
    {
      "cell_type": "code",
      "metadata": {
        "id": "t31c6eII87-q"
      },
      "source": [
        "# We make a filter for the words that are in our vocabulary\n",
        "# the final embedder is set to 0\n",
        "embedding_matrix = np.zeros((vocab_size, EMBEDDING_DIM))\n",
        "# we iterate through the dictionary\n",
        "for word, i in word_index.items():\n",
        "  # check if the word is in the embedder\n",
        "  embedding_vector = embeddings_index.get(word)\n",
        "  # if yes, it is added\n",
        "  if embedding_vector is not None:\n",
        "    embedding_matrix[i] = embedding_vector"
      ],
      "execution_count": 24,
      "outputs": []
    },
    {
      "cell_type": "markdown",
      "metadata": {
        "id": "-RaPakXhSHdf"
      },
      "source": [
        "## Configure and train the LSTM model"
      ]
    },
    {
      "cell_type": "code",
      "metadata": {
        "id": "3nwH8Smr9L0b"
      },
      "source": [
        "# Now, the embbeder matrix has each word pretrained with a vector\n",
        "# It is charger to an embedding_layer of the model\n",
        "embedding_layer = tf.keras.layers.Embedding(vocab_size,\n",
        "                                          EMBEDDING_DIM,\n",
        "                                          weights=[embedding_matrix],\n",
        "                                          input_length=MAX_SEQUENCE_LENGTH,\n",
        "                                          trainable=False)"
      ],
      "execution_count": 25,
      "outputs": []
    },
    {
      "cell_type": "code",
      "metadata": {
        "id": "NuUCX2Hl9Rs_"
      },
      "source": [
        "# The neccesary libraries from Keras are imported\n",
        "from tensorflow.keras.layers import Conv1D, Bidirectional, LSTM, Dense, Input, Dropout, GlobalMaxPool1D\n",
        "from tensorflow.keras.layers import SpatialDropout1D\n",
        "from tensorflow.keras.callbacks import ModelCheckpoint\n",
        "from tensorflow.keras.models import Model"
      ],
      "execution_count": 26,
      "outputs": []
    },
    {
      "cell_type": "markdown",
      "metadata": {
        "id": "CCKosSXEJs6I"
      },
      "source": [
        "Embedding layer\n",
        "\n",
        "the output is a 2D vector, connect is neccesary to flattet it to a 1D"
      ]
    },
    {
      "cell_type": "code",
      "metadata": {
        "id": "sTgrCHBC9WTr",
        "outputId": "5b2a0835-6e66-424a-d06e-cf6246e4f197",
        "colab": {
          "base_uri": "https://localhost:8080/",
          "height": 89
        }
      },
      "source": [
        "# An inputer layer is charger with the size of the embbeder and connected to it\n",
        "sequence_input = Input(shape=(MAX_SEQUENCE_LENGTH,), dtype='int32')\n",
        "embedding_sequences = embedding_layer(sequence_input)\n",
        "# It is a regularization technique to prevent co-adaptation\n",
        "# It drops 1d feature maps that promote independence between feature maps \n",
        "x = SpatialDropout1D(0.2)(embedding_sequences)\n",
        "# An CNN is used to extract higher-level sequences of word features\n",
        "# in this case with a kernel size is 5 and 64 kernels\n",
        "x = Conv1D(64, 5, activation='relu')(x)\n",
        "# An LSTM allows to remember information for either long or short terms \n",
        "# To manage memory it uses communly a input gate, output gate and forget fate\n",
        "# The problem is that LSTM does not covers post word information\n",
        "# So, two LSTM are used to solve this problem\n",
        "x = Bidirectional(LSTM(64, dropout=0.2, recurrent_dropout=0.2))(x)\n",
        "# A dense layers is used to extract the association between features\n",
        "x = Dense(512, activation='relu')(x)\n",
        "# and second to join them into a more compact one\n",
        "x = Dense(64, activation='relu')(x)\n",
        "# It is the same regularization technique but for individual elements\n",
        "x = Dropout(0.5)(x)\n",
        "# A sigmoid activation function is used for a binary output\n",
        "# It gives a value between 0 and 1 \n",
        "outputs = Dense(1, activation='sigmoid')(x)\n",
        "# All the model is charged\n",
        "model = tf.keras.Model(sequence_input, outputs)"
      ],
      "execution_count": 27,
      "outputs": [
        {
          "output_type": "stream",
          "text": [
            "WARNING:tensorflow:Layer lstm will not use cuDNN kernel since it doesn't meet the cuDNN kernel criteria. It will use generic GPU kernel as fallback when running on GPU\n",
            "WARNING:tensorflow:Layer lstm will not use cuDNN kernel since it doesn't meet the cuDNN kernel criteria. It will use generic GPU kernel as fallback when running on GPU\n",
            "WARNING:tensorflow:Layer lstm will not use cuDNN kernel since it doesn't meet the cuDNN kernel criteria. It will use generic GPU kernel as fallback when running on GPU\n"
          ],
          "name": "stdout"
        }
      ]
    },
    {
      "cell_type": "code",
      "metadata": {
        "id": "ItrUxx8AaXv4",
        "outputId": "18ed522a-6474-4b74-f26b-6941ae5bff49",
        "colab": {
          "base_uri": "https://localhost:8080/",
          "height": 468
        }
      },
      "source": [
        "model.summary()"
      ],
      "execution_count": 28,
      "outputs": [
        {
          "output_type": "stream",
          "text": [
            "Model: \"functional_1\"\n",
            "_________________________________________________________________\n",
            "Layer (type)                 Output Shape              Param #   \n",
            "=================================================================\n",
            "input_1 (InputLayer)         [(None, 50)]              0         \n",
            "_________________________________________________________________\n",
            "embedding (Embedding)        (None, 50, 200)           57409800  \n",
            "_________________________________________________________________\n",
            "spatial_dropout1d (SpatialDr (None, 50, 200)           0         \n",
            "_________________________________________________________________\n",
            "conv1d (Conv1D)              (None, 46, 64)            64064     \n",
            "_________________________________________________________________\n",
            "bidirectional (Bidirectional (None, 128)               66048     \n",
            "_________________________________________________________________\n",
            "dense (Dense)                (None, 512)               66048     \n",
            "_________________________________________________________________\n",
            "dense_1 (Dense)              (None, 64)                32832     \n",
            "_________________________________________________________________\n",
            "dropout (Dropout)            (None, 64)                0         \n",
            "_________________________________________________________________\n",
            "dense_2 (Dense)              (None, 1)                 65        \n",
            "=================================================================\n",
            "Total params: 57,638,857\n",
            "Trainable params: 229,057\n",
            "Non-trainable params: 57,409,800\n",
            "_________________________________________________________________\n"
          ],
          "name": "stdout"
        }
      ]
    },
    {
      "cell_type": "code",
      "metadata": {
        "id": "uA-XuaK_AFNZ",
        "outputId": "10000145-36ed-4208-9bc9-65f68896296b",
        "colab": {
          "base_uri": "https://localhost:8080/",
          "height": 54
        }
      },
      "source": [
        "from google.colab import drive\n",
        "drive.mount('/content/drive')"
      ],
      "execution_count": null,
      "outputs": [
        {
          "output_type": "stream",
          "text": [
            "Drive already mounted at /content/drive; to attempt to forcibly remount, call drive.mount(\"/content/drive\", force_remount=True).\n"
          ],
          "name": "stdout"
        }
      ]
    },
    {
      "cell_type": "code",
      "metadata": {
        "id": "zJo_Ru8o9Xyq"
      },
      "source": [
        "# Use Adam for optimizer\n",
        "from tensorflow.keras.optimizers import Adam\n",
        "from tensorflow.keras.callbacks import ReduceLROnPlateau\n",
        "\n",
        "model.compile(optimizer=Adam(learning_rate=LR), loss='binary_crossentropy',\n",
        "              metrics=['accuracy'])\n",
        "\n",
        "# Use ReduceLR0nPlateu for stop if there is no more change\n",
        "ReduceLROnPlateau = ReduceLROnPlateau(factor=0.1,\n",
        "                                     min_lr = 0,\n",
        "                                     monitor = 'val_loss',\n",
        "                                     verbose = 1)"
      ],
      "execution_count": 29,
      "outputs": []
    },
    {
      "cell_type": "code",
      "metadata": {
        "id": "DAx9t2li9aPG",
        "outputId": "79dc632c-e5b9-46b0-abc2-7391158086e7",
        "colab": {
          "base_uri": "https://localhost:8080/",
          "height": 453
        }
      },
      "source": [
        "history = model.fit(x_train, y_train, batch_size=BATCH_SIZE, epochs=EPOCHS,\n",
        "                    validation_data=(x_test, y_test), callbacks=[ReduceLROnPlateau])\n",
        "\n",
        "\n"
      ],
      "execution_count": 30,
      "outputs": [
        {
          "output_type": "stream",
          "text": [
            "Epoch 1/12\n",
            "1250/1250 [==============================] - 214s 171ms/step - loss: 0.4936 - accuracy: 0.7641 - val_loss: 0.4533 - val_accuracy: 0.7842\n",
            "Epoch 2/12\n",
            "1250/1250 [==============================] - 209s 167ms/step - loss: 0.4746 - accuracy: 0.7768 - val_loss: 0.4495 - val_accuracy: 0.7867\n",
            "Epoch 3/12\n",
            "1250/1250 [==============================] - 206s 164ms/step - loss: 0.4707 - accuracy: 0.7784 - val_loss: 0.4477 - val_accuracy: 0.7878\n",
            "Epoch 4/12\n",
            "1250/1250 [==============================] - 205s 164ms/step - loss: 0.4687 - accuracy: 0.7798 - val_loss: 0.4477 - val_accuracy: 0.7891\n",
            "Epoch 5/12\n",
            "1250/1250 [==============================] - 205s 164ms/step - loss: 0.4675 - accuracy: 0.7804 - val_loss: 0.4491 - val_accuracy: 0.7860\n",
            "Epoch 6/12\n",
            "1250/1250 [==============================] - 205s 164ms/step - loss: 0.4676 - accuracy: 0.7803 - val_loss: 0.4479 - val_accuracy: 0.7892\n",
            "Epoch 7/12\n",
            "1250/1250 [==============================] - 204s 163ms/step - loss: 0.4670 - accuracy: 0.7802 - val_loss: 0.4472 - val_accuracy: 0.7894\n",
            "Epoch 8/12\n",
            "1250/1250 [==============================] - 205s 164ms/step - loss: 0.4668 - accuracy: 0.7809 - val_loss: 0.4470 - val_accuracy: 0.7897\n",
            "Epoch 9/12\n",
            "1250/1250 [==============================] - 203s 162ms/step - loss: 0.4663 - accuracy: 0.7812 - val_loss: 0.4462 - val_accuracy: 0.7890\n",
            "Epoch 10/12\n",
            "1250/1250 [==============================] - 205s 164ms/step - loss: 0.4667 - accuracy: 0.7812 - val_loss: 0.4469 - val_accuracy: 0.7891\n",
            "Epoch 11/12\n",
            "1250/1250 [==============================] - 204s 163ms/step - loss: 0.4732 - accuracy: 0.7767 - val_loss: 0.4493 - val_accuracy: 0.7869\n",
            "Epoch 12/12\n",
            "1250/1250 [==============================] - 203s 163ms/step - loss: 0.4686 - accuracy: 0.7796 - val_loss: 0.4494 - val_accuracy: 0.7875\n"
          ],
          "name": "stdout"
        }
      ]
    },
    {
      "cell_type": "markdown",
      "metadata": {
        "id": "cNuLQWKDps73"
      },
      "source": [
        "## Visualize Results"
      ]
    },
    {
      "cell_type": "code",
      "metadata": {
        "id": "kqwXCTjgnBHM"
      },
      "source": [
        "# The model is saved\n",
        "from keras.models import load_model\n",
        "\n",
        "model.save('LSTM.h5')  # creates a HDF5 file \n"
      ],
      "execution_count": 36,
      "outputs": []
    },
    {
      "cell_type": "code",
      "metadata": {
        "id": "bZMuMg1k9cw6",
        "outputId": "1149d74f-f7ab-4e20-e060-9d7ea7c09f77",
        "colab": {
          "base_uri": "https://localhost:8080/",
          "height": 312
        }
      },
      "source": [
        "# Visualize the accuracy and loss of the model trhough the training\n",
        "\n",
        "s, (at, al) = plt.subplots(2,1)\n",
        "at.plot(history.history['accuracy'], c= 'b')\n",
        "at.plot(history.history['val_accuracy'], c='r')\n",
        "at.set_title('model accuracy')\n",
        "at.set_ylabel('accuracy')\n",
        "at.set_xlabel('epoch')\n",
        "at.legend(['LSTM_train', 'LSTM_val'], loc='upper left')\n",
        "\n",
        "al.plot(history.history['loss'], c='m')\n",
        "al.plot(history.history['val_loss'], c='c')\n",
        "al.set_title('model loss')\n",
        "al.set_ylabel('loss')\n",
        "al.set_xlabel('epoch')\n",
        "al.legend(['train', 'val'], loc = 'upper left')"
      ],
      "execution_count": 31,
      "outputs": [
        {
          "output_type": "execute_result",
          "data": {
            "text/plain": [
              "<matplotlib.legend.Legend at 0x7f845c4d38d0>"
            ]
          },
          "metadata": {
            "tags": []
          },
          "execution_count": 31
        },
        {
          "output_type": "display_data",
          "data": {
            "image/png": "[encoded data removed]",
            "text/plain": [
              "<Figure size 432x288 with 2 Axes>"
            ]
          },
          "metadata": {
            "tags": [],
            "needs_background": "light"
          }
        }
      ]
    },
    {
      "cell_type": "code",
      "metadata": {
        "id": "fBO5G_g_9vNO",
        "outputId": "54171d7d-9a72-4a41-d91c-990900f54652",
        "colab": {
          "base_uri": "https://localhost:8080/",
          "height": 34
        }
      },
      "source": [
        "# the results of sigmoid: <0.5 is Negative and >0.5 Positive\n",
        "def decode_sentiment(score):\n",
        "    return \"Positive\" if score>0.5 else \"Negative\"\n",
        "\n",
        "\n",
        "scores = model.predict(x_test, verbose=1, batch_size=10000)\n",
        "y_pred_1d = [decode_sentiment(score) for score in scores]"
      ],
      "execution_count": 32,
      "outputs": [
        {
          "output_type": "stream",
          "text": [
            "32/32 [==============================] - 6s 174ms/step\n"
          ],
          "name": "stdout"
        }
      ]
    },
    {
      "cell_type": "code",
      "metadata": {
        "id": "3S0OgBP99w4S"
      },
      "source": [
        "import itertools\n",
        "from sklearn.metrics import confusion_matrix, classification_report, accuracy_score\n",
        "def plot_confusion_matrix(cm, classes,\n",
        "                          title='Confusion matrix',\n",
        "                          cmap=plt.cm.Blues):\n",
        "    \"\"\"\n",
        "    This function prints and plots the confusion matrix.\n",
        "    Normalization can be applied by setting `normalize=True`.\n",
        "    \"\"\"\n",
        "\n",
        "    cm = cm.astype('float') / cm.sum(axis=1)[:, np.newaxis]\n",
        "\n",
        "    plt.imshow(cm, interpolation='nearest', cmap=cmap)\n",
        "    plt.title(title, fontsize=20)\n",
        "    plt.colorbar()\n",
        "    tick_marks = np.arange(len(classes))\n",
        "    plt.xticks(tick_marks, classes, fontsize=13)\n",
        "    plt.yticks(tick_marks, classes, fontsize=13)\n",
        "\n",
        "    fmt = '.2f'\n",
        "    thresh = cm.max() / 2.\n",
        "    for i, j in itertools.product(range(cm.shape[0]), range(cm.shape[1])):\n",
        "        plt.text(j, i, format(cm[i, j], fmt),\n",
        "                 horizontalalignment=\"center\",\n",
        "                 color=\"white\" if cm[i, j] > thresh else \"black\")\n",
        "\n",
        "    plt.ylabel('True label', fontsize=17)\n",
        "    plt.xlabel('Predicted label', fontsize=17)"
      ],
      "execution_count": 33,
      "outputs": []
    },
    {
      "cell_type": "code",
      "metadata": {
        "id": "e82jO_vF9xaD",
        "outputId": "4e46a6ff-601d-4557-8000-37bcfc94be85",
        "colab": {
          "base_uri": "https://localhost:8080/",
          "height": 370
        }
      },
      "source": [
        "cnf_matrix = confusion_matrix(test_data.sentiment.to_list(), y_pred_1d)\n",
        "plt.figure(figsize=(6,6))\n",
        "plot_confusion_matrix(cnf_matrix, classes=test_data.sentiment.unique(), title=\"Confusion matrix\")\n",
        "plt.show()"
      ],
      "execution_count": 34,
      "outputs": [
        {
          "output_type": "display_data",
          "data": {
            "image/png": "[encoded data removed]",
            "text/plain": [
              "<Figure size 432x432 with 2 Axes>"
            ]
          },
          "metadata": {
            "tags": [],
            "needs_background": "light"
          }
        }
      ]
    },
    {
      "cell_type": "code",
      "metadata": {
        "id": "tFo7FoIB9yW6",
        "outputId": "f01188a6-5102-486e-8cd8-e02da85f693e",
        "colab": {
          "base_uri": "https://localhost:8080/",
          "height": 173
        }
      },
      "source": [
        "print(classification_report(list(test_data.sentiment), y_pred_1d))"
      ],
      "execution_count": 35,
      "outputs": [
        {
          "output_type": "stream",
          "text": [
            "              precision    recall  f1-score   support\n",
            "\n",
            "    Negative       0.78      0.81      0.79    159815\n",
            "    Positive       0.80      0.77      0.78    160185\n",
            "\n",
            "    accuracy                           0.79    320000\n",
            "   macro avg       0.79      0.79      0.79    320000\n",
            "weighted avg       0.79      0.79      0.79    320000\n",
            "\n"
          ],
          "name": "stdout"
        }
      ]
    },
    {
      "cell_type": "markdown",
      "metadata": {
        "id": "0de5OqTnvuok"
      },
      "source": [
        "## To know More\n",
        "\n",
        "CNN and LSTM\n",
        "https://arxiv.org/pdf/1511.08630.pdf\n",
        "\n",
        "BB_twtr model\n",
        "https://arxiv.org/pdf/1704.06125v1.pdf\n",
        "\n",
        "Extra information\n",
        "https://www.researchgate.net/publication/341873850_Text_based_Sentiment_Analysis_using_LSTM\n",
        "\n",
        "https://stackabuse.com/python-for-nlp-movie-sentiment-analysis-using-deep-learning-in-keras/\n"
      ]
    },
    {
      "cell_type": "code",
      "metadata": {
        "id": "M_h4yvQHMQWp"
      },
      "source": [
        ""
      ],
      "execution_count": null,
      "outputs": []
    }
  ]
}