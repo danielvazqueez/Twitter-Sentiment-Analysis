{
 "cells": [
  {
   "cell_type": "markdown",
   "metadata": {},
   "source": [
    "# Sentiment analysis on Tweets\n",
    "The project will create a model that will be able to predict whether the sentiment of a tweet is positive or genative"
   ]
  },
  {
   "cell_type": "markdown",
   "metadata": {},
   "source": [
    "## Load the data"
   ]
  },
  {
   "cell_type": "code",
   "execution_count": 1,
   "metadata": {},
   "outputs": [
    {
     "data": {
      "text/html": [
       "<div>\n",
       "<style scoped>\n",
       "    .dataframe tbody tr th:only-of-type {\n",
       "        vertical-align: middle;\n",
       "    }\n",
       "\n",
       "    .dataframe tbody tr th {\n",
       "        vertical-align: top;\n",
       "    }\n",
       "\n",
       "    .dataframe thead th {\n",
       "        text-align: right;\n",
       "    }\n",
       "</style>\n",
       "<table border=\"1\" class=\"dataframe\">\n",
       "  <thead>\n",
       "    <tr style=\"text-align: right;\">\n",
       "      <th></th>\n",
       "      <th>sentiment</th>\n",
       "      <th>text</th>\n",
       "    </tr>\n",
       "  </thead>\n",
       "  <tbody>\n",
       "    <tr>\n",
       "      <th>680446</th>\n",
       "      <td>Negative</td>\n",
       "      <td>my scalp is burning</td>\n",
       "    </tr>\n",
       "    <tr>\n",
       "      <th>1435954</th>\n",
       "      <td>Positive</td>\n",
       "      <td>@ShUtUpAnDlEtMeG Yea it wos good thanx  Soriez...</td>\n",
       "    </tr>\n",
       "    <tr>\n",
       "      <th>863166</th>\n",
       "      <td>Positive</td>\n",
       "      <td>I will be a medical social worker next semester</td>\n",
       "    </tr>\n",
       "    <tr>\n",
       "      <th>707109</th>\n",
       "      <td>Negative</td>\n",
       "      <td>@Terrilw I can't get on my wow account</td>\n",
       "    </tr>\n",
       "    <tr>\n",
       "      <th>1188541</th>\n",
       "      <td>Positive</td>\n",
       "      <td>In London all this week  and then back for Oas...</td>\n",
       "    </tr>\n",
       "  </tbody>\n",
       "</table>\n",
       "</div>"
      ],
      "text/plain": [
       "        sentiment                                               text\n",
       "680446   Negative                               my scalp is burning \n",
       "1435954  Positive  @ShUtUpAnDlEtMeG Yea it wos good thanx  Soriez...\n",
       "863166   Positive   I will be a medical social worker next semester \n",
       "707109   Negative            @Terrilw I can't get on my wow account \n",
       "1188541  Positive  In London all this week  and then back for Oas..."
      ]
     },
     "execution_count": 1,
     "metadata": {},
     "output_type": "execute_result"
    }
   ],
   "source": [
    "import pandas as pd\n",
    "import numpy as np\n",
    "df = pd.read_csv('training.1600000.processed.noemoticon.csv',\n",
    "                 encoding = 'latin',header=None)\n",
    "# Label the columns of our dataset\n",
    "df.columns = ['sentiment', 'id', 'date', 'query', 'user_id', 'text']\n",
    "# Drop the columns that we won't need\n",
    "df = df.drop(['id', 'date', 'query', 'user_id'], axis=1)\n",
    "# For this example, we are only keeping 3% of the data but ideally\n",
    "# we will train with the whole dataset if we had the computation power\n",
    "df = df.sample(frac=0.03)\n",
    "\n",
    "# Dictionary to replace the numbers to a Binary classification\n",
    "lab_to_sentiment = {0:\"Negative\", 4:\"Positive\"}\n",
    "def label_decoder(label):\n",
    "  return lab_to_sentiment[label]\n",
    "\n",
    "# We replace the sentiment values with our binary classification\n",
    "df.sentiment = df.sentiment.apply(lambda x: label_decoder(x))\n",
    "\n",
    "# Print the final data\n",
    "df.head()"
   ]
  },
  {
   "cell_type": "markdown",
   "metadata": {},
   "source": [
    "## Plot the data \n",
    "We plot the data just to make sure everything was correct with our sampling"
   ]
  },
  {
   "cell_type": "code",
   "execution_count": 2,
   "metadata": {},
   "outputs": [
    {
     "data": {
      "text/plain": [
       "Text(0.5, 1.0, 'Sentiment Data Distribution')"
      ]
     },
     "execution_count": 2,
     "metadata": {},
     "output_type": "execute_result"
    }
   ],
   "source": [
    "import matplotlib.pyplot as plt\n",
    "val_count = df.sentiment.value_counts()\n",
    "\n",
    "plt.figure(figsize=(8,4))\n",
    "plt.bar(val_count.index, val_count.values)\n",
    "plt.title(\"Sentiment Data Distribution\")"
   ]
  },
  {
   "cell_type": "markdown",
   "metadata": {},
   "source": [
    "## Preprocessing of the data\n",
    "We process the data to get rid of noisy values + tokenize the words on the tweets correctly"
   ]
  },
  {
   "cell_type": "code",
   "execution_count": 9,
   "metadata": {},
   "outputs": [],
   "source": [
    "import nltk\n",
    "from nltk.corpus import stopwords\n",
    "import re\n",
    "import pickle\n",
    "from nltk.tokenize import TweetTokenizer\n",
    "\n",
    "# We load stop words from nltk corpus\n",
    "stop_words = stopwords.words('english')\n",
    "# We created a regex that will help us clean all of the links that are\n",
    "# attached in our data\n",
    "text_cleaning_re = \"@\\S+|https?:\\S+|http?:\\S|[^A-Za-z0-9]+\"\n",
    "\n",
    "# For this example, we found a TweetTokenizer which suppose to do a better job\n",
    "# at tokenize the words on a Tweet\n",
    "tknzr = TweetTokenizer()\n",
    "all_words = []\n",
    "\n",
    "# We define a function that will help us preprocess every row in our data\n",
    "def preprocess(text, stem=False):\n",
    "    # We get rid of the links on the tweets + lowercase + blank spaces at the end and beginning\n",
    "    text = re.sub(text_cleaning_re, ' ', str(text).lower()).strip()\n",
    "    tokens = []\n",
    "    # we split into words our tweet\n",
    "    words = tknzr.tokenize(text)\n",
    "    for token in words:\n",
    "        # we get rid of stop_words in our tweet as it wont add any value to our training\n",
    "        if token not in stop_words:\n",
    "            # append the token to our all_words array that will help us track the most used words\n",
    "            all_words.append(token)\n",
    "            tokens.append(token)\n",
    "            # return the new tokenized string without stop_words for our data\n",
    "    return \" \".join(tokens)\n",
    "\n",
    "# we aplly the function that we just create for every row\n",
    "df.text = df.text.apply(lambda x: preprocess(x))\n",
    "\n",
    "# we transform the dataframe into a list of tuples with the text and sentiment\n",
    "documents = []\n",
    "for index, row in df.iterrows():\n",
    "    documents.append((row['text'], row['sentiment']))\n",
    "\n",
    "# save the pickle so we don't have to process again the data\n",
    "save_doc = open(\"pickle/tweets.pickle\", \"wb\")\n",
    "pickle.dump(documents, save_doc)\n",
    "save_doc.close()\n",
    "\n",
    "# we sort by most frequent words and we select the top 5000 words used\n",
    "all_words = nltk.FreqDist(all_words)\n",
    "word_features = list(all_words.keys())[:5000]\n",
    "\n",
    "# save the pickle again so we don't have to process\n",
    "save_word = open(\"pickle/word_tweets.pickle\", \"wb\")\n",
    "pickle.dump(word_features, save_word)\n",
    "save_word.close()"
   ]
  },
  {
   "cell_type": "markdown",
   "metadata": {},
   "source": [
    "### Para la implementación de una red LSTM ###"
   ]
  },
  {
   "cell_type": "code",
   "execution_count": 5,
   "metadata": {},
   "outputs": [
    {
     "name": "stdout",
     "output_type": "stream",
     "text": [
      "Train Data size: 38400\n",
      "Test Data size 9600\n"
     ]
    }
   ],
   "source": [
    "#Para la LSTM\n",
    "from sklearn.model_selection import train_test_split\n",
    "train_data_LSTM, test_data_LSTM = train_test_split(df, test_size=1-0.8, random_state=7) \n",
    "print(\"Train Data size:\", len(train_data_LSTM))\n",
    "print(\"Test Data size\", len(test_data_LSTM))"
   ]
  },
  {
   "cell_type": "code",
   "execution_count": 6,
   "metadata": {},
   "outputs": [
    {
     "name": "stdout",
     "output_type": "stream",
     "text": [
      "Vocabulary Size : 49724\n"
     ]
    }
   ],
   "source": [
    "from keras.preprocessing.text import Tokenizer\n",
    "# In order to represent word in a way that computer understand\n",
    "# is used Tokenizer, that encode words with ACSII\n",
    "tokenizer = Tokenizer(oov_token='<00V>')\n",
    "tokenizer.fit_on_texts(train_data_LSTM.text)\n",
    "\n",
    "# The encoding is saved in a dictionary\n",
    "# word_index are the words\n",
    "word_index = tokenizer.word_index\n",
    "# Quantity of differents words used\n",
    "vocab_size = len(tokenizer.word_index) + 1\n",
    "print(\"Vocabulary Size :\", vocab_size)"
   ]
  },
  {
   "cell_type": "code",
   "execution_count": 11,
   "metadata": {},
   "outputs": [
    {
     "name": "stdout",
     "output_type": "stream",
     "text": [
      "WARNING:tensorflow:Model was constructed with shape (None, 30) for input Tensor(\"input_1_1:0\", shape=(None, 30), dtype=int32), but it was called on an input with incompatible shape (None, 50).\n",
      "[[0.6359477]\n",
      " [0.6096966]]\n",
      "['Positive', 'Positive']\n"
     ]
    }
   ],
   "source": [
    "\n"
   ]
  },
  {
   "cell_type": "markdown",
   "metadata": {},
   "source": [
    "###  If the preprocessing was done we just load the pickle"
   ]
  },
  {
   "cell_type": "code",
   "execution_count": 2,
   "metadata": {},
   "outputs": [],
   "source": [
    "import pickle\n",
    "\n",
    "save_doc = open(\"pickle/tweets.pickle\", \"rb\")\n",
    "documents = pickle.load(save_doc)\n",
    "save_doc.close()\n",
    "\n",
    "save_word = open(\"pickle/word_tweets.pickle\", \"rb\")\n",
    "word_features = pickle.load(save_word)\n",
    "save_word.close()"
   ]
  },
  {
   "cell_type": "markdown",
   "metadata": {},
   "source": [
    "## Generating the training and testing dataset\n",
    "Before we separate the data, we need and extra step which is to create a dictionary for every tweet that will contain which of the most used words was used in that tweet and we will train with that dictionary"
   ]
  },
  {
   "cell_type": "code",
   "execution_count": 3,
   "metadata": {},
   "outputs": [],
   "source": [
    "# Create the dictionary for every tweet with the most used words and marking\n",
    "# True for the ones that are actually in our tweet\n",
    "def find_features(document):\n",
    "    words = document.split()\n",
    "    features = {}\n",
    "    for w in word_features:\n",
    "        features[w] = (w in words)\n",
    "    \n",
    "    return features"
   ]
  },
  {
   "cell_type": "code",
   "execution_count": null,
   "metadata": {},
   "outputs": [],
   "source": [
    "featuresets = [(find_features(rev), category) for (rev, category) in documents]\n",
    "\n",
    "# Divide our dataset into a 90/10 ratio for training and testing\n",
    "training_size = int(len(featuresets)*.9)\n",
    "training_set = featuresets[:training_size]\n",
    "testing_set = featuresets[training_size:]\n",
    "\n",
    "# Save the pickle with the featureset\n",
    "save_featureset = open(\"pickle/featureset.pickle\", \"wb\")\n",
    "pickle.dump(featuresets, save_featureset)\n",
    "save_featureset.close()"
   ]
  },
  {
   "cell_type": "markdown",
   "metadata": {},
   "source": [
    "### If we already generated the feature set\n",
    "We just need to load the pickle and separate the training and testing data"
   ]
  },
  {
   "cell_type": "code",
   "execution_count": 7,
   "metadata": {},
   "outputs": [],
   "source": [
    "save_featureset = open(\"pickle/featureset.pickle\", \"rb\")\n",
    "featuresets = pickle.load(save_featureset)\n",
    "save_featureset.close()\n",
    "\n",
    "# Divide our dataset into a 90/10 ratio for training and testing\n",
    "training_size = int(len(featuresets)*.9)\n",
    "training_set = featuresets[:training_size]\n",
    "testing_set = featuresets[training_size:]"
   ]
  },
  {
   "cell_type": "markdown",
   "metadata": {},
   "source": [
    "## Train the models\n",
    "We generate correctly all of our data for training so we are ready to train the models"
   ]
  },
  {
   "cell_type": "code",
   "execution_count": 12,
   "metadata": {},
   "outputs": [
    {
     "name": "stdout",
     "output_type": "stream",
     "text": [
      "Naive Bayes Algo accuracy percent: 73.20833333333333\n",
      "Most Informative Features\n",
      "                   sadly = True           Negati : Positi =     27.0 : 1.0\n",
      "                 hurting = True           Negati : Positi =     23.7 : 1.0\n",
      "                    knee = True           Negati : Positi =     20.3 : 1.0\n",
      "                headache = True           Negati : Positi =     16.5 : 1.0\n",
      "                 welcome = True           Positi : Negati =     15.8 : 1.0\n",
      "                   awful = True           Negati : Positi =     15.4 : 1.0\n",
      "                   hurts = True           Negati : Positi =     15.3 : 1.0\n",
      "                     sad = True           Negati : Positi =     14.1 : 1.0\n",
      "              frustrated = True           Negati : Positi =     14.1 : 1.0\n",
      "                    grrr = True           Negati : Positi =     14.1 : 1.0\n",
      "               miserable = True           Negati : Positi =     14.1 : 1.0\n",
      "               depressed = True           Negati : Positi =     13.8 : 1.0\n",
      "            disappointed = True           Negati : Positi =     13.7 : 1.0\n",
      "                  throat = True           Negati : Positi =     13.6 : 1.0\n",
      "               cancelled = True           Negati : Positi =     13.4 : 1.0\n"
     ]
    }
   ],
   "source": [
    "import nltk\n",
    "from nltk.classify.scikitlearn import SklearnClassifier\n",
    "from sklearn.linear_model import LogisticRegression, SGDClassifier\n",
    "from sklearn.svm import SVC, LinearSVC, NuSVC\n",
    "from sklearn.naive_bayes import MultinomialNB, GaussianNB, BernoulliNB\n",
    "\n",
    "classifier = nltk.NaiveBayesClassifier.train(training_set)\n",
    "print('Naive Bayes Algo accuracy percent:', (nltk.classify.accuracy(classifier, testing_set)*100))\n",
    "classifier.show_most_informative_features(15)\n",
    "save_class = open(\"pickle/naive.pickle\", \"wb\")\n",
    "pickle.dump(classifier, save_class)\n",
    "save_class.close()"
   ]
  },
  {
   "cell_type": "code",
   "execution_count": null,
   "metadata": {},
   "outputs": [],
   "source": [
    "MNB_classifier = SklearnClassifier(MultinomialNB())\n",
    "MNB_classifier.train(training_set)\n",
    "print('MNB classifier Algo accuracy percent:', (nltk.classify.accuracy(MNB_classifier, testing_set)*100))\n",
    "save_class = open(\"pickle/mnb.pickle\", \"wb\")\n",
    "pickle.dump(MNB_classifier, save_class)\n",
    "save_class.close()"
   ]
  },
  {
   "cell_type": "code",
   "execution_count": 6,
   "metadata": {},
   "outputs": [
    {
     "name": "stdout",
     "output_type": "stream",
     "text": [
      "144000\n"
     ]
    }
   ],
   "source": [
    "BernoulliNB_classifier = SklearnClassifier(BernoulliNB())\n",
    "BernoulliNB_classifier.train(training_set)\n",
    "print('BernoulliNB classifier Algo accuracy percent:', (nltk.classify.accuracy(BernoulliNB_classifier, testing_set)*100))\n",
    "save_class = open(\"pickle/bernoulli.pickle\", \"wb\")\n",
    "pickle.dump(BernoulliNB_classifier, save_class)\n",
    "save_class.close()"
   ]
  },
  {
   "cell_type": "code",
   "execution_count": null,
   "metadata": {},
   "outputs": [],
   "source": [
    "SGDClassifier_classifier = SklearnClassifier(SGDClassifier())\n",
    "SGDClassifier_classifier.train(training_set)\n",
    "print('SGDClassifier classifier Algo accuracy percent:', (nltk.classify.accuracy(SGDClassifier_classifier, testing_set)*100))\n",
    "save_class = open(\"pickle/sgd.pickle\", \"wb\")\n",
    "pickle.dump(SGDClassifier_classifier, save_class)\n",
    "save_class.close()"
   ]
  },
  {
   "cell_type": "code",
   "execution_count": null,
   "metadata": {},
   "outputs": [],
   "source": [
    "LogisticRegression_classifier = SklearnClassifier(LogisticRegression())\n",
    "LogisticRegression_classifier.train(training_set)\n",
    "print('LogisticRegression classifier Algo accuracy percent:', (nltk.classify.accuracy(LogisticRegression_classifier, testing_set)*100))\n",
    "save_class = open(\"pickle/logistic.pickle\", \"wb\")\n",
    "pickle.dump(LogisticRegression_classifier, save_class)\n",
    "save_class.close()"
   ]
  },
  {
   "cell_type": "markdown",
   "metadata": {},
   "source": [
    "### If we already train all of our models\n",
    "We just pickle the classifiers so we can move on to testing"
   ]
  },
  {
   "cell_type": "code",
   "execution_count": 4,
   "metadata": {},
   "outputs": [
    {
     "name": "stderr",
     "output_type": "stream",
     "text": [
      "C:\\Users\\luis_\\anaconda3\\lib\\site-packages\\sklearn\\base.py:329: UserWarning: Trying to unpickle estimator MultinomialNB from version 0.22.2.post1 when using version 0.23.1. This might lead to breaking code or invalid results. Use at your own risk.\n",
      "  warnings.warn(\n",
      "C:\\Users\\luis_\\anaconda3\\lib\\site-packages\\sklearn\\base.py:329: UserWarning: Trying to unpickle estimator LabelEncoder from version 0.22.2.post1 when using version 0.23.1. This might lead to breaking code or invalid results. Use at your own risk.\n",
      "  warnings.warn(\n",
      "C:\\Users\\luis_\\anaconda3\\lib\\site-packages\\sklearn\\base.py:329: UserWarning: Trying to unpickle estimator DictVectorizer from version 0.22.2.post1 when using version 0.23.1. This might lead to breaking code or invalid results. Use at your own risk.\n",
      "  warnings.warn(\n",
      "C:\\Users\\luis_\\anaconda3\\lib\\site-packages\\sklearn\\base.py:329: UserWarning: Trying to unpickle estimator BernoulliNB from version 0.22.2.post1 when using version 0.23.1. This might lead to breaking code or invalid results. Use at your own risk.\n",
      "  warnings.warn(\n",
      "C:\\Users\\luis_\\anaconda3\\lib\\site-packages\\sklearn\\base.py:329: UserWarning: Trying to unpickle estimator LogisticRegression from version 0.22.2.post1 when using version 0.23.1. This might lead to breaking code or invalid results. Use at your own risk.\n",
      "  warnings.warn(\n",
      "C:\\Users\\luis_\\anaconda3\\lib\\site-packages\\sklearn\\base.py:329: UserWarning: Trying to unpickle estimator SGDClassifier from version 0.22.2.post1 when using version 0.23.1. This might lead to breaking code or invalid results. Use at your own risk.\n",
      "  warnings.warn(\n"
     ]
    }
   ],
   "source": [
    "import pickle\n",
    "save_class = open(\"pickle/naive.pickle\", \"rb\")\n",
    "classifier = pickle.load(save_class)\n",
    "save_class.close()\n",
    "\n",
    "save_class = open(\"pickle/mnb.pickle\", \"rb\")\n",
    "MNB_classifier = pickle.load(save_class)\n",
    "save_class.close()\n",
    "\n",
    "save_class = open(\"pickle/bernoulli.pickle\", \"rb\")\n",
    "BernoulliNB_classifier = pickle.load(save_class)\n",
    "save_class.close()\n",
    "\n",
    "save_class = open(\"pickle/logistic.pickle\", \"rb\")\n",
    "LogisticRegression_classifier = pickle.load(save_class)\n",
    "save_class.close()\n",
    "\n",
    "save_class = open(\"pickle/sgd.pickle\", \"rb\")\n",
    "SGDClassifier_classifier = pickle.load(save_class)\n",
    "save_class.close()"
   ]
  },
  {
   "cell_type": "markdown",
   "metadata": {},
   "source": [
    "## Create Vote Classifier\n",
    "Once we have all of our models ready, we can create a Vote Classifier that will combine the prediction of each different classification model which will allow us to have a confidence on the prediction that we give for real life data."
   ]
  },
  {
   "cell_type": "code",
   "execution_count": 5,
   "metadata": {},
   "outputs": [],
   "source": [
    "from nltk.classify import ClassifierI\n",
    "from statistics import mode\n",
    "\n",
    "class VoteClassifier(ClassifierI):\n",
    "    def __init__(self, *classifiers):\n",
    "        self._classifiers = classifiers\n",
    "        \n",
    "    def classify(self, features):\n",
    "        votes = []\n",
    "        for c in self._classifiers:\n",
    "            v = c.classify(features)\n",
    "            votes.append(v)\n",
    "        return mode(votes)\n",
    "    \n",
    "    def confidence(self, features):\n",
    "        votes = []\n",
    "        for c in self._classifiers:\n",
    "            v = c.classify(features)\n",
    "            votes.append(v)\n",
    "        choice_votes = votes.count(mode(votes))\n",
    "        conf = choice_votes / len(votes)\n",
    "        return conf\n",
    "    \n",
    "# We can add as many classifiers as we want to make it more robust\n",
    "voted_classifier = VoteClassifier(\n",
    "    classifier, \n",
    "    MNB_classifier, \n",
    "    BernoulliNB_classifier,\n",
    "    LogisticRegression_classifier,\n",
    "    SGDClassifier_classifier)"
   ]
  },
  {
   "cell_type": "code",
   "execution_count": null,
   "metadata": {},
   "outputs": [],
   "source": [
    "print(\"voted_classifier accuracy percent:\", (nltk.classify.accuracy(voted_classifier, testing_set)) * 100)\n",
    "print(\"Classification:\", voted_classifier.classify(testing_set[0][0]), \"Confidence %: \", voted_classifier.confidence(testing_set[0][0])*100)"
   ]
  },
  {
   "cell_type": "markdown",
   "metadata": {},
   "source": [
    "## We create a function that will call this Vote Classifier\n",
    "It will receive the text and will return a tople with the classification and the confidence on the result"
   ]
  },
  {
   "cell_type": "code",
   "execution_count": 6,
   "metadata": {},
   "outputs": [],
   "source": [
    "def sentiment(text):\n",
    "    feats = find_features(text)\n",
    "    return voted_classifier.classify(feats), voted_classifier.confidence(feats)"
   ]
  },
  {
   "cell_type": "markdown",
   "metadata": {},
   "source": [
    "## Evaluation on real time tweets\n",
    "We made use of the twitter API to get real time tweets and output a result for each of them in real time as well"
   ]
  },
  {
   "cell_type": "code",
   "execution_count": 16,
   "metadata": {},
   "outputs": [
    {
     "name": "stdout",
     "output_type": "stream",
     "text": [
      "@koush Use my referral link to receive 1,000 free Supercharger miles with the purchase and delivery of a new Tesla… https://t.co/cK8wbfwn7V Positive 1.0\n",
      "RT @stagtattlou: kmm is for when you’re drunk in the back of the car and dlibyh is for when you’re crying like a baby coming home from the… Negative 1.0\n",
      "Doria tem que cair! Positive 0.8\n",
      "@climatechangeNU https://t.co/pTKpnor88V Positive 0.8\n",
      "to the Karen in the car next to me at Taco Bell,\n",
      "\n",
      "yes they don’t have some stuff...  \n",
      "\n",
      "maybe next time go to dinner… https://t.co/s3AnmNPVAu Negative 0.6\n",
      "RT @silvano_trotta: Naples dans la rue ! Pourquoi ? Parce qu’il y a 15 jours ils ont encore élu un mafieux pleutre et couard ! Et maintenan… Positive 1.0\n",
      "Duvide seriamente do caráter de uma pessoa que não gosta de forró ou piseiro. Que live monstra!\n",
      "\n",
      "#XandEBaroesComSkol Negative 0.6\n",
      "RT @TeamOM_Officiel: ▫️ Le onze probable à Lorient :\n",
      "\n",
      "                 Mandanda ©\n",
      "Sakai - Álvaro - Ćaleta-Car - Amavi\n",
      "       Rongier - Kama… Positive 0.8\n",
      "In today’s instalment of “Small Annoyances”:  Your own engine is only as good as the engine in the car ahead of you… https://t.co/3NUA6J6Hie Negative 1.0\n",
      "@MrBeastYT tbh fab ratio my comment for.the.boys so I can get my mom a car she has her road test on nov 3rd and tha… https://t.co/1lEWFjKdjR Negative 0.6\n",
      "RT @ChineseDoll___: 😂 Positive 0.8\n",
      "Reverse about 2-3 feet in the direction of the red car then put it in drive. If you drive forward first you can pos… https://t.co/tr8GKakWq2 Positive 1.0\n",
      "@MJGlass2 By golly, I thought so.\n",
      "\n",
      "There's a show on Netflix about some car restoring hillbillies up there, ya know! Negative 1.0\n",
      "@lleanderson1980 @OrlandoCmara Esse truque da geleia com ricota tbm faço. Tem geleia sem açúcar (p diabéticos, como… https://t.co/LSlFrvIrI5 Positive 1.0\n",
      "RT @Cocopuffphatty: Sometimes I don’t even understand why my poussé 🐱 so phat 🤦🏾‍♀️😩✨ @GoddessPhatty \n",
      "📸 @BrandNuStudios\n",
      "\n",
      "Click The Link In… Negative 1.0\n",
      "@JayInslee a $100 fine for driving without headlights on in the rain could have made $10,000 in Mason County this a… https://t.co/tria5bTP8z Negative 1.0\n",
      "RT @Mmi_1970: Para mi sobrino autista estamos buscando con carácter de urgencia el medicamento ABRETTIA, de 10,15,18,20,25,30 miligramos.… Negative 1.0\n",
      "I can’t wait to get out of this broke ass loud ass car, uber will hear about this Negative 1.0\n",
      "RT @kimkomando: Do you cringe when your car insurance bill comes? Komando Content Director Allie (I call her the Content Queen on my show 👑… Negative 1.0\n",
      "Hate to say it, but this is so true. The 8 makes I have stuffed around in my various purses, laptop bag , car etc.… https://t.co/QHtuwpkZvk Negative 1.0\n",
      "RT @mcjosh_: Please,  @O_Okee 's Mum did not just lose Oke , She lost her car, house &amp; virtually everything to thugs and hoodlums attacking… Negative 1.0\n",
      "why tf do ppl leave their kids in the car when they go in the store!??? Negative 1.0\n",
      "RT @EtagereAntiques: Matchbox 76 Honda CVCC Yellow Car NIP MBX Highway Lot of 3 2019 Thailand #eBay #matchbox #honda #HondaCVCC #collectibl… Positive 1.0\n",
      "Nigga you ok? Positive 0.8\n",
      "@oldwhiteguy4308 @thehill I'm sitting in my car outside the laundry mat right now and I hear construction equipment running and working. Negative 1.0\n",
      "god fuck this!!! im gonna take a shower!!! and then im gonna eat dinner and do my makeup to razzmatazz and wear fuc… https://t.co/ZddysRAC5k Negative 0.6\n",
      "RT @jonathanmtucker: &amp; @John_Kavanagh I’ve been to your gym and it wasn’t too shabby at all, pal. 😉 https://t.co/0nur1TySjv Positive 1.0\n",
      "Opinión exactamente lo mismo acerca de la ausencia de los cargadores en los nuevos iPhone. \n",
      "\n",
      "Pd: no sabía lo del im… https://t.co/yME5yxmRyz Positive 1.0\n",
      "RT @trcinspotting: listen I'll fuckin organize fundraisers for more seasons of mindhunter pls god sexy car washes selling cookies whatever… Positive 1.0\n",
      "@Mike_Pence @realDonaldTrump Don't listen to Pence. He only says what Trump wants. He can't out on his pants withou… https://t.co/NANoJuout0 Positive 1.0\n",
      "RT @ursala_yacoob: 💯 Positive 0.8\n",
      "RT @BBC_Future: The diabolical ironclad beetle can survive being stamped on, or even being run over by a car. https://t.co/BO8bmzSfB1 Positive 0.8\n",
      "Damn it, Jim! I'm a craft ceramicist not a car mechanic! Negative 1.0\n",
      "Today our car of my parents did have the battery power low and a person been nice to us and help us its beautiful w… https://t.co/xfypNTk3E4 Negative 1.0\n",
      "@Ieofeels não gostar do hagrid e do lupin é falha de caráter Positive 1.0\n",
      "RT @millerofficiel: Parce qu’ils roulent des mécaniques, les Darmanin, Valls, Cazeneuve et autres Ciotti se croient les héros de la lutte a… Positive 1.0\n",
      "Watching possibly Indian music tv just now. No idea. I am making up storylines for the music videos as they are so… https://t.co/vekDAgDEgU Positive 1.0\n",
      "Bloods done. Less than 30 mins and I forgot where I parked my car hahahaha. Negative 1.0\n",
      "@Olixvie She got hit by a car or SHE GOT HIT BY A CAR? Negative 1.0\n",
      "RT @evildildos: thinking about all the people who have probably seen me violently dancing in my car Negative 1.0\n",
      "RT @ahalilu1: A CAR is a CAR. A JOB is a JOB. don't let people belittle you. remain HUMBLE 🥺💜 Positive 1.0\n",
      "@BarefootTasha_ Lmao yeah I can definitely understand that. You need to be calm while learning because it's already… https://t.co/U4sq4MyN9h Positive 1.0\n",
      "RT @leilani_li: Dick out .. vibing .. I Just finished fucking in the back seat of my car .... ✨💦😋🤫 https://t.co/0TwnWn8QPX Negative 1.0\n",
      "Wahala don dy... and Yoruba people say ‘wounded snake they bite with force o’ everyone stay safe and stay smart.. G… https://t.co/oGNrAgaIts Positive 1.0\n",
      "Pprt Positive 0.8\n",
      "RT @planet_eros: @_benjvmins_ here i am again 😅 https://t.co/giMMJf2JpK Positive 0.8\n"
     ]
    },
    {
     "ename": "KeyboardInterrupt",
     "evalue": "",
     "output_type": "error",
     "traceback": [
      "\u001b[0;31m---------------------------------------------------------------------------\u001b[0m",
      "\u001b[0;31mKeyboardInterrupt\u001b[0m                         Traceback (most recent call last)",
      "\u001b[0;32m<ipython-input-16-43f8035cd068>\u001b[0m in \u001b[0;36m<module>\u001b[0;34m\u001b[0m\n\u001b[1;32m     39\u001b[0m \u001b[0mtwitterStream\u001b[0m \u001b[0;34m=\u001b[0m \u001b[0mStream\u001b[0m\u001b[0;34m(\u001b[0m\u001b[0mauth\u001b[0m\u001b[0;34m,\u001b[0m \u001b[0mlistener\u001b[0m\u001b[0;34m(\u001b[0m\u001b[0;34m)\u001b[0m\u001b[0;34m)\u001b[0m\u001b[0;34m\u001b[0m\u001b[0;34m\u001b[0m\u001b[0m\n\u001b[1;32m     40\u001b[0m \u001b[0;31m# we select a keyword for we will filter only the tweets related to that word\u001b[0m\u001b[0;34m\u001b[0m\u001b[0;34m\u001b[0m\u001b[0;34m\u001b[0m\u001b[0m\n\u001b[0;32m---> 41\u001b[0;31m \u001b[0mtwitterStream\u001b[0m\u001b[0;34m.\u001b[0m\u001b[0mfilter\u001b[0m\u001b[0;34m(\u001b[0m\u001b[0mtrack\u001b[0m\u001b[0;34m=\u001b[0m\u001b[0;34m[\u001b[0m\u001b[0;34m\"car\"\u001b[0m\u001b[0;34m]\u001b[0m\u001b[0;34m)\u001b[0m\u001b[0;34m\u001b[0m\u001b[0;34m\u001b[0m\u001b[0m\n\u001b[0m",
      "\u001b[0;32m~/opt/anaconda3/lib/python3.7/site-packages/tweepy/streaming.py\u001b[0m in \u001b[0;36mfilter\u001b[0;34m(self, follow, track, is_async, locations, stall_warnings, languages, encoding, filter_level)\u001b[0m\n\u001b[1;32m    472\u001b[0m             \u001b[0mself\u001b[0m\u001b[0;34m.\u001b[0m\u001b[0mbody\u001b[0m\u001b[0;34m[\u001b[0m\u001b[0;34m'filter_level'\u001b[0m\u001b[0;34m]\u001b[0m \u001b[0;34m=\u001b[0m \u001b[0mfilter_level\u001b[0m\u001b[0;34m.\u001b[0m\u001b[0mencode\u001b[0m\u001b[0;34m(\u001b[0m\u001b[0mencoding\u001b[0m\u001b[0;34m)\u001b[0m\u001b[0;34m\u001b[0m\u001b[0;34m\u001b[0m\u001b[0m\n\u001b[1;32m    473\u001b[0m         \u001b[0mself\u001b[0m\u001b[0;34m.\u001b[0m\u001b[0msession\u001b[0m\u001b[0;34m.\u001b[0m\u001b[0mparams\u001b[0m \u001b[0;34m=\u001b[0m \u001b[0;34m{\u001b[0m\u001b[0;34m'delimited'\u001b[0m\u001b[0;34m:\u001b[0m \u001b[0;34m'length'\u001b[0m\u001b[0;34m}\u001b[0m\u001b[0;34m\u001b[0m\u001b[0;34m\u001b[0m\u001b[0m\n\u001b[0;32m--> 474\u001b[0;31m         \u001b[0mself\u001b[0m\u001b[0;34m.\u001b[0m\u001b[0m_start\u001b[0m\u001b[0;34m(\u001b[0m\u001b[0mis_async\u001b[0m\u001b[0;34m)\u001b[0m\u001b[0;34m\u001b[0m\u001b[0;34m\u001b[0m\u001b[0m\n\u001b[0m\u001b[1;32m    475\u001b[0m \u001b[0;34m\u001b[0m\u001b[0m\n\u001b[1;32m    476\u001b[0m     def sitestream(self, follow, stall_warnings=False,\n",
      "\u001b[0;32m~/opt/anaconda3/lib/python3.7/site-packages/tweepy/streaming.py\u001b[0m in \u001b[0;36m_start\u001b[0;34m(self, is_async)\u001b[0m\n\u001b[1;32m    387\u001b[0m             \u001b[0mself\u001b[0m\u001b[0;34m.\u001b[0m\u001b[0m_thread\u001b[0m\u001b[0;34m.\u001b[0m\u001b[0mstart\u001b[0m\u001b[0;34m(\u001b[0m\u001b[0;34m)\u001b[0m\u001b[0;34m\u001b[0m\u001b[0;34m\u001b[0m\u001b[0m\n\u001b[1;32m    388\u001b[0m         \u001b[0;32melse\u001b[0m\u001b[0;34m:\u001b[0m\u001b[0;34m\u001b[0m\u001b[0;34m\u001b[0m\u001b[0m\n\u001b[0;32m--> 389\u001b[0;31m             \u001b[0mself\u001b[0m\u001b[0;34m.\u001b[0m\u001b[0m_run\u001b[0m\u001b[0;34m(\u001b[0m\u001b[0;34m)\u001b[0m\u001b[0;34m\u001b[0m\u001b[0;34m\u001b[0m\u001b[0m\n\u001b[0m\u001b[1;32m    390\u001b[0m \u001b[0;34m\u001b[0m\u001b[0m\n\u001b[1;32m    391\u001b[0m     \u001b[0;32mdef\u001b[0m \u001b[0mon_closed\u001b[0m\u001b[0;34m(\u001b[0m\u001b[0mself\u001b[0m\u001b[0;34m,\u001b[0m \u001b[0mresp\u001b[0m\u001b[0;34m)\u001b[0m\u001b[0;34m:\u001b[0m\u001b[0;34m\u001b[0m\u001b[0;34m\u001b[0m\u001b[0m\n",
      "\u001b[0;32m~/opt/anaconda3/lib/python3.7/site-packages/tweepy/streaming.py\u001b[0m in \u001b[0;36m_run\u001b[0;34m(self)\u001b[0m\n\u001b[1;32m    287\u001b[0m                     \u001b[0mself\u001b[0m\u001b[0;34m.\u001b[0m\u001b[0msnooze_time\u001b[0m \u001b[0;34m=\u001b[0m \u001b[0mself\u001b[0m\u001b[0;34m.\u001b[0m\u001b[0msnooze_time_step\u001b[0m\u001b[0;34m\u001b[0m\u001b[0;34m\u001b[0m\u001b[0m\n\u001b[1;32m    288\u001b[0m                     \u001b[0mself\u001b[0m\u001b[0;34m.\u001b[0m\u001b[0mlistener\u001b[0m\u001b[0;34m.\u001b[0m\u001b[0mon_connect\u001b[0m\u001b[0;34m(\u001b[0m\u001b[0;34m)\u001b[0m\u001b[0;34m\u001b[0m\u001b[0;34m\u001b[0m\u001b[0m\n\u001b[0;32m--> 289\u001b[0;31m                     \u001b[0mself\u001b[0m\u001b[0;34m.\u001b[0m\u001b[0m_read_loop\u001b[0m\u001b[0;34m(\u001b[0m\u001b[0mresp\u001b[0m\u001b[0;34m)\u001b[0m\u001b[0;34m\u001b[0m\u001b[0;34m\u001b[0m\u001b[0m\n\u001b[0m\u001b[1;32m    290\u001b[0m             \u001b[0;32mexcept\u001b[0m \u001b[0;34m(\u001b[0m\u001b[0mTimeout\u001b[0m\u001b[0;34m,\u001b[0m \u001b[0mssl\u001b[0m\u001b[0;34m.\u001b[0m\u001b[0mSSLError\u001b[0m\u001b[0;34m)\u001b[0m \u001b[0;32mas\u001b[0m \u001b[0mexc\u001b[0m\u001b[0;34m:\u001b[0m\u001b[0;34m\u001b[0m\u001b[0;34m\u001b[0m\u001b[0m\n\u001b[1;32m    291\u001b[0m                 \u001b[0;31m# This is still necessary, as a SSLError can actually be\u001b[0m\u001b[0;34m\u001b[0m\u001b[0;34m\u001b[0m\u001b[0;34m\u001b[0m\u001b[0m\n",
      "\u001b[0;32m~/opt/anaconda3/lib/python3.7/site-packages/tweepy/streaming.py\u001b[0m in \u001b[0;36m_read_loop\u001b[0;34m(self, resp)\u001b[0m\n\u001b[1;32m    337\u001b[0m             \u001b[0mlength\u001b[0m \u001b[0;34m=\u001b[0m \u001b[0;36m0\u001b[0m\u001b[0;34m\u001b[0m\u001b[0;34m\u001b[0m\u001b[0m\n\u001b[1;32m    338\u001b[0m             \u001b[0;32mwhile\u001b[0m \u001b[0;32mnot\u001b[0m \u001b[0mresp\u001b[0m\u001b[0;34m.\u001b[0m\u001b[0mraw\u001b[0m\u001b[0;34m.\u001b[0m\u001b[0mclosed\u001b[0m\u001b[0;34m:\u001b[0m\u001b[0;34m\u001b[0m\u001b[0;34m\u001b[0m\u001b[0m\n\u001b[0;32m--> 339\u001b[0;31m                 \u001b[0mline\u001b[0m \u001b[0;34m=\u001b[0m \u001b[0mbuf\u001b[0m\u001b[0;34m.\u001b[0m\u001b[0mread_line\u001b[0m\u001b[0;34m(\u001b[0m\u001b[0;34m)\u001b[0m\u001b[0;34m\u001b[0m\u001b[0;34m\u001b[0m\u001b[0m\n\u001b[0m\u001b[1;32m    340\u001b[0m                 \u001b[0mstripped_line\u001b[0m \u001b[0;34m=\u001b[0m \u001b[0mline\u001b[0m\u001b[0;34m.\u001b[0m\u001b[0mstrip\u001b[0m\u001b[0;34m(\u001b[0m\u001b[0;34m)\u001b[0m \u001b[0;32mif\u001b[0m \u001b[0mline\u001b[0m \u001b[0;32melse\u001b[0m \u001b[0mline\u001b[0m \u001b[0;31m# line is sometimes None so we need to check here\u001b[0m\u001b[0;34m\u001b[0m\u001b[0;34m\u001b[0m\u001b[0m\n\u001b[1;32m    341\u001b[0m                 \u001b[0;32mif\u001b[0m \u001b[0;32mnot\u001b[0m \u001b[0mstripped_line\u001b[0m\u001b[0;34m:\u001b[0m\u001b[0;34m\u001b[0m\u001b[0;34m\u001b[0m\u001b[0m\n",
      "\u001b[0;32m~/opt/anaconda3/lib/python3.7/site-packages/tweepy/streaming.py\u001b[0m in \u001b[0;36mread_line\u001b[0;34m(self, sep)\u001b[0m\n\u001b[1;32m    198\u001b[0m             \u001b[0;32melse\u001b[0m\u001b[0;34m:\u001b[0m\u001b[0;34m\u001b[0m\u001b[0;34m\u001b[0m\u001b[0m\n\u001b[1;32m    199\u001b[0m                 \u001b[0mstart\u001b[0m \u001b[0;34m=\u001b[0m \u001b[0mlen\u001b[0m\u001b[0;34m(\u001b[0m\u001b[0mself\u001b[0m\u001b[0;34m.\u001b[0m\u001b[0m_buffer\u001b[0m\u001b[0;34m)\u001b[0m\u001b[0;34m\u001b[0m\u001b[0;34m\u001b[0m\u001b[0m\n\u001b[0;32m--> 200\u001b[0;31m             \u001b[0mself\u001b[0m\u001b[0;34m.\u001b[0m\u001b[0m_buffer\u001b[0m \u001b[0;34m+=\u001b[0m \u001b[0mself\u001b[0m\u001b[0;34m.\u001b[0m\u001b[0m_stream\u001b[0m\u001b[0;34m.\u001b[0m\u001b[0mread\u001b[0m\u001b[0;34m(\u001b[0m\u001b[0mself\u001b[0m\u001b[0;34m.\u001b[0m\u001b[0m_chunk_size\u001b[0m\u001b[0;34m)\u001b[0m\u001b[0;34m\u001b[0m\u001b[0;34m\u001b[0m\u001b[0m\n\u001b[0m\u001b[1;32m    201\u001b[0m         \u001b[0;32mreturn\u001b[0m \u001b[0msix\u001b[0m\u001b[0;34m.\u001b[0m\u001b[0mb\u001b[0m\u001b[0;34m(\u001b[0m\u001b[0;34m''\u001b[0m\u001b[0;34m)\u001b[0m\u001b[0;34m\u001b[0m\u001b[0;34m\u001b[0m\u001b[0m\n\u001b[1;32m    202\u001b[0m \u001b[0;34m\u001b[0m\u001b[0m\n",
      "\u001b[0;32m~/opt/anaconda3/lib/python3.7/site-packages/urllib3/response.py\u001b[0m in \u001b[0;36mread\u001b[0;34m(self, amt, decode_content, cache_content)\u001b[0m\n\u001b[1;32m    440\u001b[0m             \u001b[0;32melse\u001b[0m\u001b[0;34m:\u001b[0m\u001b[0;34m\u001b[0m\u001b[0;34m\u001b[0m\u001b[0m\n\u001b[1;32m    441\u001b[0m                 \u001b[0mcache_content\u001b[0m \u001b[0;34m=\u001b[0m \u001b[0;32mFalse\u001b[0m\u001b[0;34m\u001b[0m\u001b[0;34m\u001b[0m\u001b[0m\n\u001b[0;32m--> 442\u001b[0;31m                 \u001b[0mdata\u001b[0m \u001b[0;34m=\u001b[0m \u001b[0mself\u001b[0m\u001b[0;34m.\u001b[0m\u001b[0m_fp\u001b[0m\u001b[0;34m.\u001b[0m\u001b[0mread\u001b[0m\u001b[0;34m(\u001b[0m\u001b[0mamt\u001b[0m\u001b[0;34m)\u001b[0m\u001b[0;34m\u001b[0m\u001b[0;34m\u001b[0m\u001b[0m\n\u001b[0m\u001b[1;32m    443\u001b[0m                 \u001b[0;32mif\u001b[0m \u001b[0mamt\u001b[0m \u001b[0;34m!=\u001b[0m \u001b[0;36m0\u001b[0m \u001b[0;32mand\u001b[0m \u001b[0;32mnot\u001b[0m \u001b[0mdata\u001b[0m\u001b[0;34m:\u001b[0m  \u001b[0;31m# Platform-specific: Buggy versions of Python.\u001b[0m\u001b[0;34m\u001b[0m\u001b[0;34m\u001b[0m\u001b[0m\n\u001b[1;32m    444\u001b[0m                     \u001b[0;31m# Close the connection when no data is returned\u001b[0m\u001b[0;34m\u001b[0m\u001b[0;34m\u001b[0m\u001b[0;34m\u001b[0m\u001b[0m\n",
      "\u001b[0;32m~/opt/anaconda3/lib/python3.7/http/client.py\u001b[0m in \u001b[0;36mread\u001b[0;34m(self, amt)\u001b[0m\n\u001b[1;32m    455\u001b[0m             \u001b[0;31m# Amount is given, implement using readinto\u001b[0m\u001b[0;34m\u001b[0m\u001b[0;34m\u001b[0m\u001b[0;34m\u001b[0m\u001b[0m\n\u001b[1;32m    456\u001b[0m             \u001b[0mb\u001b[0m \u001b[0;34m=\u001b[0m \u001b[0mbytearray\u001b[0m\u001b[0;34m(\u001b[0m\u001b[0mamt\u001b[0m\u001b[0;34m)\u001b[0m\u001b[0;34m\u001b[0m\u001b[0;34m\u001b[0m\u001b[0m\n\u001b[0;32m--> 457\u001b[0;31m             \u001b[0mn\u001b[0m \u001b[0;34m=\u001b[0m \u001b[0mself\u001b[0m\u001b[0;34m.\u001b[0m\u001b[0mreadinto\u001b[0m\u001b[0;34m(\u001b[0m\u001b[0mb\u001b[0m\u001b[0;34m)\u001b[0m\u001b[0;34m\u001b[0m\u001b[0;34m\u001b[0m\u001b[0m\n\u001b[0m\u001b[1;32m    458\u001b[0m             \u001b[0;32mreturn\u001b[0m \u001b[0mmemoryview\u001b[0m\u001b[0;34m(\u001b[0m\u001b[0mb\u001b[0m\u001b[0;34m)\u001b[0m\u001b[0;34m[\u001b[0m\u001b[0;34m:\u001b[0m\u001b[0mn\u001b[0m\u001b[0;34m]\u001b[0m\u001b[0;34m.\u001b[0m\u001b[0mtobytes\u001b[0m\u001b[0;34m(\u001b[0m\u001b[0;34m)\u001b[0m\u001b[0;34m\u001b[0m\u001b[0;34m\u001b[0m\u001b[0m\n\u001b[1;32m    459\u001b[0m         \u001b[0;32melse\u001b[0m\u001b[0;34m:\u001b[0m\u001b[0;34m\u001b[0m\u001b[0;34m\u001b[0m\u001b[0m\n",
      "\u001b[0;32m~/opt/anaconda3/lib/python3.7/http/client.py\u001b[0m in \u001b[0;36mreadinto\u001b[0;34m(self, b)\u001b[0m\n\u001b[1;32m    489\u001b[0m \u001b[0;34m\u001b[0m\u001b[0m\n\u001b[1;32m    490\u001b[0m         \u001b[0;32mif\u001b[0m \u001b[0mself\u001b[0m\u001b[0;34m.\u001b[0m\u001b[0mchunked\u001b[0m\u001b[0;34m:\u001b[0m\u001b[0;34m\u001b[0m\u001b[0;34m\u001b[0m\u001b[0m\n\u001b[0;32m--> 491\u001b[0;31m             \u001b[0;32mreturn\u001b[0m \u001b[0mself\u001b[0m\u001b[0;34m.\u001b[0m\u001b[0m_readinto_chunked\u001b[0m\u001b[0;34m(\u001b[0m\u001b[0mb\u001b[0m\u001b[0;34m)\u001b[0m\u001b[0;34m\u001b[0m\u001b[0;34m\u001b[0m\u001b[0m\n\u001b[0m\u001b[1;32m    492\u001b[0m \u001b[0;34m\u001b[0m\u001b[0m\n\u001b[1;32m    493\u001b[0m         \u001b[0;32mif\u001b[0m \u001b[0mself\u001b[0m\u001b[0;34m.\u001b[0m\u001b[0mlength\u001b[0m \u001b[0;32mis\u001b[0m \u001b[0;32mnot\u001b[0m \u001b[0;32mNone\u001b[0m\u001b[0;34m:\u001b[0m\u001b[0;34m\u001b[0m\u001b[0;34m\u001b[0m\u001b[0m\n",
      "\u001b[0;32m~/opt/anaconda3/lib/python3.7/http/client.py\u001b[0m in \u001b[0;36m_readinto_chunked\u001b[0;34m(self, b)\u001b[0m\n\u001b[1;32m    584\u001b[0m         \u001b[0;32mtry\u001b[0m\u001b[0;34m:\u001b[0m\u001b[0;34m\u001b[0m\u001b[0;34m\u001b[0m\u001b[0m\n\u001b[1;32m    585\u001b[0m             \u001b[0;32mwhile\u001b[0m \u001b[0;32mTrue\u001b[0m\u001b[0;34m:\u001b[0m\u001b[0;34m\u001b[0m\u001b[0;34m\u001b[0m\u001b[0m\n\u001b[0;32m--> 586\u001b[0;31m                 \u001b[0mchunk_left\u001b[0m \u001b[0;34m=\u001b[0m \u001b[0mself\u001b[0m\u001b[0;34m.\u001b[0m\u001b[0m_get_chunk_left\u001b[0m\u001b[0;34m(\u001b[0m\u001b[0;34m)\u001b[0m\u001b[0;34m\u001b[0m\u001b[0;34m\u001b[0m\u001b[0m\n\u001b[0m\u001b[1;32m    587\u001b[0m                 \u001b[0;32mif\u001b[0m \u001b[0mchunk_left\u001b[0m \u001b[0;32mis\u001b[0m \u001b[0;32mNone\u001b[0m\u001b[0;34m:\u001b[0m\u001b[0;34m\u001b[0m\u001b[0;34m\u001b[0m\u001b[0m\n\u001b[1;32m    588\u001b[0m                     \u001b[0;32mreturn\u001b[0m \u001b[0mtotal_bytes\u001b[0m\u001b[0;34m\u001b[0m\u001b[0;34m\u001b[0m\u001b[0m\n",
      "\u001b[0;32m~/opt/anaconda3/lib/python3.7/http/client.py\u001b[0m in \u001b[0;36m_get_chunk_left\u001b[0;34m(self)\u001b[0m\n\u001b[1;32m    552\u001b[0m                 \u001b[0mself\u001b[0m\u001b[0;34m.\u001b[0m\u001b[0m_safe_read\u001b[0m\u001b[0;34m(\u001b[0m\u001b[0;36m2\u001b[0m\u001b[0;34m)\u001b[0m  \u001b[0;31m# toss the CRLF at the end of the chunk\u001b[0m\u001b[0;34m\u001b[0m\u001b[0;34m\u001b[0m\u001b[0m\n\u001b[1;32m    553\u001b[0m             \u001b[0;32mtry\u001b[0m\u001b[0;34m:\u001b[0m\u001b[0;34m\u001b[0m\u001b[0;34m\u001b[0m\u001b[0m\n\u001b[0;32m--> 554\u001b[0;31m                 \u001b[0mchunk_left\u001b[0m \u001b[0;34m=\u001b[0m \u001b[0mself\u001b[0m\u001b[0;34m.\u001b[0m\u001b[0m_read_next_chunk_size\u001b[0m\u001b[0;34m(\u001b[0m\u001b[0;34m)\u001b[0m\u001b[0;34m\u001b[0m\u001b[0;34m\u001b[0m\u001b[0m\n\u001b[0m\u001b[1;32m    555\u001b[0m             \u001b[0;32mexcept\u001b[0m \u001b[0mValueError\u001b[0m\u001b[0;34m:\u001b[0m\u001b[0;34m\u001b[0m\u001b[0;34m\u001b[0m\u001b[0m\n\u001b[1;32m    556\u001b[0m                 \u001b[0;32mraise\u001b[0m \u001b[0mIncompleteRead\u001b[0m\u001b[0;34m(\u001b[0m\u001b[0;34mb''\u001b[0m\u001b[0;34m)\u001b[0m\u001b[0;34m\u001b[0m\u001b[0;34m\u001b[0m\u001b[0m\n",
      "\u001b[0;32m~/opt/anaconda3/lib/python3.7/http/client.py\u001b[0m in \u001b[0;36m_read_next_chunk_size\u001b[0;34m(self)\u001b[0m\n\u001b[1;32m    512\u001b[0m     \u001b[0;32mdef\u001b[0m \u001b[0m_read_next_chunk_size\u001b[0m\u001b[0;34m(\u001b[0m\u001b[0mself\u001b[0m\u001b[0;34m)\u001b[0m\u001b[0;34m:\u001b[0m\u001b[0;34m\u001b[0m\u001b[0;34m\u001b[0m\u001b[0m\n\u001b[1;32m    513\u001b[0m         \u001b[0;31m# Read the next chunk size from the file\u001b[0m\u001b[0;34m\u001b[0m\u001b[0;34m\u001b[0m\u001b[0;34m\u001b[0m\u001b[0m\n\u001b[0;32m--> 514\u001b[0;31m         \u001b[0mline\u001b[0m \u001b[0;34m=\u001b[0m \u001b[0mself\u001b[0m\u001b[0;34m.\u001b[0m\u001b[0mfp\u001b[0m\u001b[0;34m.\u001b[0m\u001b[0mreadline\u001b[0m\u001b[0;34m(\u001b[0m\u001b[0m_MAXLINE\u001b[0m \u001b[0;34m+\u001b[0m \u001b[0;36m1\u001b[0m\u001b[0;34m)\u001b[0m\u001b[0;34m\u001b[0m\u001b[0;34m\u001b[0m\u001b[0m\n\u001b[0m\u001b[1;32m    515\u001b[0m         \u001b[0;32mif\u001b[0m \u001b[0mlen\u001b[0m\u001b[0;34m(\u001b[0m\u001b[0mline\u001b[0m\u001b[0;34m)\u001b[0m \u001b[0;34m>\u001b[0m \u001b[0m_MAXLINE\u001b[0m\u001b[0;34m:\u001b[0m\u001b[0;34m\u001b[0m\u001b[0;34m\u001b[0m\u001b[0m\n\u001b[1;32m    516\u001b[0m             \u001b[0;32mraise\u001b[0m \u001b[0mLineTooLong\u001b[0m\u001b[0;34m(\u001b[0m\u001b[0;34m\"chunk size\"\u001b[0m\u001b[0;34m)\u001b[0m\u001b[0;34m\u001b[0m\u001b[0;34m\u001b[0m\u001b[0m\n",
      "\u001b[0;32m~/opt/anaconda3/lib/python3.7/socket.py\u001b[0m in \u001b[0;36mreadinto\u001b[0;34m(self, b)\u001b[0m\n\u001b[1;32m    587\u001b[0m         \u001b[0;32mwhile\u001b[0m \u001b[0;32mTrue\u001b[0m\u001b[0;34m:\u001b[0m\u001b[0;34m\u001b[0m\u001b[0;34m\u001b[0m\u001b[0m\n\u001b[1;32m    588\u001b[0m             \u001b[0;32mtry\u001b[0m\u001b[0;34m:\u001b[0m\u001b[0;34m\u001b[0m\u001b[0;34m\u001b[0m\u001b[0m\n\u001b[0;32m--> 589\u001b[0;31m                 \u001b[0;32mreturn\u001b[0m \u001b[0mself\u001b[0m\u001b[0;34m.\u001b[0m\u001b[0m_sock\u001b[0m\u001b[0;34m.\u001b[0m\u001b[0mrecv_into\u001b[0m\u001b[0;34m(\u001b[0m\u001b[0mb\u001b[0m\u001b[0;34m)\u001b[0m\u001b[0;34m\u001b[0m\u001b[0;34m\u001b[0m\u001b[0m\n\u001b[0m\u001b[1;32m    590\u001b[0m             \u001b[0;32mexcept\u001b[0m \u001b[0mtimeout\u001b[0m\u001b[0;34m:\u001b[0m\u001b[0;34m\u001b[0m\u001b[0;34m\u001b[0m\u001b[0m\n\u001b[1;32m    591\u001b[0m                 \u001b[0mself\u001b[0m\u001b[0;34m.\u001b[0m\u001b[0m_timeout_occurred\u001b[0m \u001b[0;34m=\u001b[0m \u001b[0;32mTrue\u001b[0m\u001b[0;34m\u001b[0m\u001b[0;34m\u001b[0m\u001b[0m\n",
      "\u001b[0;32m~/opt/anaconda3/lib/python3.7/ssl.py\u001b[0m in \u001b[0;36mrecv_into\u001b[0;34m(self, buffer, nbytes, flags)\u001b[0m\n\u001b[1;32m   1069\u001b[0m                   \u001b[0;34m\"non-zero flags not allowed in calls to recv_into() on %s\"\u001b[0m \u001b[0;34m%\u001b[0m\u001b[0;34m\u001b[0m\u001b[0;34m\u001b[0m\u001b[0m\n\u001b[1;32m   1070\u001b[0m                   self.__class__)\n\u001b[0;32m-> 1071\u001b[0;31m             \u001b[0;32mreturn\u001b[0m \u001b[0mself\u001b[0m\u001b[0;34m.\u001b[0m\u001b[0mread\u001b[0m\u001b[0;34m(\u001b[0m\u001b[0mnbytes\u001b[0m\u001b[0;34m,\u001b[0m \u001b[0mbuffer\u001b[0m\u001b[0;34m)\u001b[0m\u001b[0;34m\u001b[0m\u001b[0;34m\u001b[0m\u001b[0m\n\u001b[0m\u001b[1;32m   1072\u001b[0m         \u001b[0;32melse\u001b[0m\u001b[0;34m:\u001b[0m\u001b[0;34m\u001b[0m\u001b[0;34m\u001b[0m\u001b[0m\n\u001b[1;32m   1073\u001b[0m             \u001b[0;32mreturn\u001b[0m \u001b[0msuper\u001b[0m\u001b[0;34m(\u001b[0m\u001b[0;34m)\u001b[0m\u001b[0;34m.\u001b[0m\u001b[0mrecv_into\u001b[0m\u001b[0;34m(\u001b[0m\u001b[0mbuffer\u001b[0m\u001b[0;34m,\u001b[0m \u001b[0mnbytes\u001b[0m\u001b[0;34m,\u001b[0m \u001b[0mflags\u001b[0m\u001b[0;34m)\u001b[0m\u001b[0;34m\u001b[0m\u001b[0;34m\u001b[0m\u001b[0m\n",
      "\u001b[0;32m~/opt/anaconda3/lib/python3.7/ssl.py\u001b[0m in \u001b[0;36mread\u001b[0;34m(self, len, buffer)\u001b[0m\n\u001b[1;32m    927\u001b[0m         \u001b[0;32mtry\u001b[0m\u001b[0;34m:\u001b[0m\u001b[0;34m\u001b[0m\u001b[0;34m\u001b[0m\u001b[0m\n\u001b[1;32m    928\u001b[0m             \u001b[0;32mif\u001b[0m \u001b[0mbuffer\u001b[0m \u001b[0;32mis\u001b[0m \u001b[0;32mnot\u001b[0m \u001b[0;32mNone\u001b[0m\u001b[0;34m:\u001b[0m\u001b[0;34m\u001b[0m\u001b[0;34m\u001b[0m\u001b[0m\n\u001b[0;32m--> 929\u001b[0;31m                 \u001b[0;32mreturn\u001b[0m \u001b[0mself\u001b[0m\u001b[0;34m.\u001b[0m\u001b[0m_sslobj\u001b[0m\u001b[0;34m.\u001b[0m\u001b[0mread\u001b[0m\u001b[0;34m(\u001b[0m\u001b[0mlen\u001b[0m\u001b[0;34m,\u001b[0m \u001b[0mbuffer\u001b[0m\u001b[0;34m)\u001b[0m\u001b[0;34m\u001b[0m\u001b[0;34m\u001b[0m\u001b[0m\n\u001b[0m\u001b[1;32m    930\u001b[0m             \u001b[0;32melse\u001b[0m\u001b[0;34m:\u001b[0m\u001b[0;34m\u001b[0m\u001b[0;34m\u001b[0m\u001b[0m\n\u001b[1;32m    931\u001b[0m                 \u001b[0;32mreturn\u001b[0m \u001b[0mself\u001b[0m\u001b[0;34m.\u001b[0m\u001b[0m_sslobj\u001b[0m\u001b[0;34m.\u001b[0m\u001b[0mread\u001b[0m\u001b[0;34m(\u001b[0m\u001b[0mlen\u001b[0m\u001b[0;34m)\u001b[0m\u001b[0;34m\u001b[0m\u001b[0;34m\u001b[0m\u001b[0m\n",
      "\u001b[0;31mKeyboardInterrupt\u001b[0m: "
     ]
    }
   ],
   "source": [
    "from tweepy import Stream\n",
    "from tweepy import OAuthHandler\n",
    "from tweepy.streaming import StreamListener\n",
    "import json\n",
    "\n",
    "#consumer key, consumer secret, access token, access secret.\n",
    "ckey=\"3MuY1EnZFbRhfA5utqmqtGRlE\"\n",
    "csecret=\"TXutBRikoAFG2b1EmZ29xE26O71i9vOM4uuWfnyvD84Y5UfbAz\"\n",
    "atoken=\"360796736-YqflPUUIK5Dy8QmOmVYJLJPEjuCtQnLK9NovGAL0\"\n",
    "asecret=\"dmzktdklo30OKGGcnvQkjSZZsgvzLhDijodQwwCVfhfXx\"\n",
    "\n",
    "class listener(StreamListener):\n",
    "\n",
    "    def on_data(self, data):\n",
    "        all_data = json.loads(data)\n",
    "        \n",
    "        tweet = all_data[\"text\"]\n",
    "        \n",
    "        # we call our function to see the sentiment on that tweet\n",
    "        sentiment_value, confidence = sentiment(tweet)\n",
    "\n",
    "        # we print the results\n",
    "        print(tweet, sentiment_value, confidence)\n",
    "        \n",
    "        # if we are confident on our prediction, we will save the result for plotting in the next function\n",
    "        if confidence*100 >= 80:\n",
    "            output = open(\"twitter.txt\",\"a\")\n",
    "            output.write(sentiment_value)\n",
    "            output.write('\\n')\n",
    "            output.close()\n",
    "        return True\n",
    "\n",
    "    def on_error(self, status):\n",
    "        print(status)\n",
    "\n",
    "auth = OAuthHandler(ckey, csecret)\n",
    "auth.set_access_token(atoken, asecret)\n",
    "\n",
    "twitterStream = Stream(auth, listener())\n",
    "# we select a keyword for we will filter only the tweets related to that word\n",
    "twitterStream.filter(track=[\"car\"])"
   ]
  },
  {
   "cell_type": "markdown",
   "metadata": {},
   "source": [
    "# Plot of the Twitter Analysis\n",
    "If you want to see the plot in real time, run this script on a separate notebook"
   ]
  },
  {
   "cell_type": "code",
   "execution_count": null,
   "metadata": {},
   "outputs": [],
   "source": [
    "import matplotlib.pyplot as plt\n",
    "import matplotlib.animation as animation\n",
    "from matplotlib import style\n",
    "import time\n",
    "\n",
    "style.use(\"ggplot\")\n",
    "\n",
    "fig = plt.figure()\n",
    "ax1 = fig.add_subplot(1,1,1)\n",
    "\n",
    "def animate(i):\n",
    "    pullData = open(\"twitter.txt\",\"r\").read()\n",
    "    lines = pullData.split('\\n')\n",
    "\n",
    "    xar = []\n",
    "    yar = []\n",
    "\n",
    "    x = 0\n",
    "    y = 0\n",
    "\n",
    "    for l in lines[-200:]:\n",
    "        x += 1\n",
    "        if \"Pos\" in l:\n",
    "            y += 1\n",
    "        elif \"Neg\" in l:\n",
    "            y -= 1\n",
    "\n",
    "        xar.append(x)\n",
    "        yar.append(y)\n",
    "        \n",
    "    ax1.clear()\n",
    "    ax1.plot(xar,yar)\n",
    "ani = animation.FuncAnimation(fig, animate, interval=1000)\n",
    "plt.show()"
   ]
  },
  {
   "cell_type": "markdown",
   "metadata": {},
   "source": [
    "# Same Model Applied to Amazon Reviews #"
   ]
  },
  {
   "cell_type": "code",
   "execution_count": 17,
   "metadata": {},
   "outputs": [],
   "source": [
    "import pandas as pd\n",
    "import matplotlib.pyplot as plt\n",
    "import numpy as np\n",
    "import seaborn as sns\n",
    "import math\n",
    "import warnings\n",
    "warnings.filterwarnings('ignore')\n",
    "warnings.filterwarnings(\"ignore\", category=DeprecationWarning)\n",
    "warnings.filterwarnings(\"ignore\",category=UserWarning)\n",
    "sns.set_style(\"whitegrid\")\n",
    "np.random.seed(7) \n",
    "csv = \"1429_1.csv\" #Base de datos de reseñas de Amazon\n",
    "df = pd.read_csv(csv)\n",
    "data = df.copy()\n",
    "data.describe()\n",
    "data[\"asins\"].unique()\n",
    "asins_unique = len(data[\"asins\"].unique())"
   ]
  },
  {
   "cell_type": "markdown",
   "metadata": {},
   "source": [
    "### Data Processing ###"
   ]
  },
  {
   "cell_type": "code",
   "execution_count": 18,
   "metadata": {},
   "outputs": [],
   "source": [
    "from sklearn.model_selection import StratifiedShuffleSplit\n",
    "dataAfter = data.dropna(subset=[\"reviews.rating\"])\n",
    "dataAfter[\"reviews.rating\"] = dataAfter[\"reviews.rating\"].astype(int)\n",
    "split = StratifiedShuffleSplit(n_splits=5, test_size=0.2)\n",
    "for train_index, test_index in split.split(dataAfter,\n",
    "                                           dataAfter[\"reviews.rating\"]): \n",
    "    strat_train = dataAfter.reindex(train_index)\n",
    "    strat_test = dataAfter.reindex(test_index)\n",
    "strat_train[\"reviews.rating\"].value_counts()/len(strat_train)\n",
    "reviews = strat_train.copy()"
   ]
  },
  {
   "cell_type": "code",
   "execution_count": 215,
   "metadata": {},
   "outputs": [],
   "source": [
    "reviews.groupby(\"asins\")[\"name\"].unique()\n",
    "different_names = reviews[reviews[\"asins\"] == \n",
    "                          \"B00L9EPT8O,B01E6AO69U\"][\"name\"].unique()"
   ]
  },
  {
   "cell_type": "code",
   "execution_count": 214,
   "metadata": {},
   "outputs": [],
   "source": [
    "reviews[reviews[\"asins\"] == \"B00L9EPT8O,B01E6AO69U\"][\"name\"].value_counts()\n",
    "corr_matrix = reviews.corr()\n",
    "counts = reviews[\"asins\"].value_counts().to_frame()\n",
    "avg_rating = reviews.groupby(\"asins\")[\"reviews.rating\"].mean().to_frame()\n",
    "table = counts.join(avg_rating)"
   ]
  },
  {
   "cell_type": "code",
   "execution_count": 195,
   "metadata": {},
   "outputs": [],
   "source": [
    "#Reseñas de 3 estrellas para abajo son consideradas negativas\n",
    "def sentiments(rating):\n",
    "    if (rating == 5) or (rating == 4):\n",
    "        return \"Positive\"\n",
    "    elif (rating == 2) or (rating == 1) or (rating == 3):\n",
    "        return \"Negative\"\n",
    "strat_train[\"Sentiment\"] = strat_train[\"reviews.rating\"].apply(sentiments)\n",
    "strat_test[\"Sentiment\"] = strat_test[\"reviews.rating\"].apply(sentiments)\n",
    "strat_test = strat_test.groupby('Sentiment') # Se balancea para que el número de negativos sea el mismo que el número de positivos\n",
    "strat_test = strat_test.apply(lambda x: x.sample(strat_test.size().min()).reset_index(drop=True))"
   ]
  },
  {
   "cell_type": "code",
   "execution_count": 196,
   "metadata": {},
   "outputs": [
    {
     "name": "stdout",
     "output_type": "stream",
     "text": [
      "27701 896\n"
     ]
    }
   ],
   "source": [
    "X_train = strat_train[\"reviews.text\"]\n",
    "X_train_targetSentiment = strat_train[\"Sentiment\"]\n",
    "X_test = strat_test[\"reviews.text\"]\n",
    "X_test_targetSentiment = strat_test[\"Sentiment\"]\n",
    "print(len(X_train), len(X_test))"
   ]
  },
  {
   "cell_type": "code",
   "execution_count": 199,
   "metadata": {},
   "outputs": [],
   "source": [
    "# Reemplazar \"nan\" con espacio\n",
    "X_train = X_train.fillna(' ')\n",
    "X_test = X_test.fillna(' ')\n",
    "X_train_targetSentiment = X_train_targetSentiment.fillna(' ')\n",
    "X_test_targetSentiment = X_test_targetSentiment.fillna(' ')\n",
    "\n",
    "from sklearn.feature_extraction.text import CountVectorizer \n",
    "count_vect = CountVectorizer()\n",
    "X_test_counts = count_vect.fit_transform(X_test)"
   ]
  },
  {
   "cell_type": "code",
   "execution_count": 216,
   "metadata": {},
   "outputs": [],
   "source": [
    "from sklearn.feature_extraction.text import TfidfTransformer\n",
    "tfidf_transformer = TfidfTransformer(use_idf=False)\n",
    "X_train_tfidf = tfidf_transformer.fit_transform(X_train_counts)"
   ]
  },
  {
   "cell_type": "code",
   "execution_count": 201,
   "metadata": {},
   "outputs": [],
   "source": [
    "#Valores predecidos\n",
    "l = []\n",
    "it = 0\n",
    "for i in X_test:\n",
    "    sentiment_value, confidence = sentiment(i[0])\n",
    "    if sentiment_value == 'Positive':\n",
    "        l.append(1)\n",
    "    else:\n",
    "        l.append(0)"
   ]
  },
  {
   "cell_type": "code",
   "execution_count": 211,
   "metadata": {},
   "outputs": [],
   "source": [
    "#Valores numéricos de los sentimientos reales\n",
    "real_values = strat_test[\"Sentiment\"].tolist()\n",
    "num_real = []\n",
    "for i in real_values:\n",
    "    if i == 'Positive':\n",
    "        num_real.append(1)\n",
    "    else:\n",
    "        num_real.append(0)\n",
    "\n",
    "num_real = np.array(num_real)"
   ]
  },
  {
   "cell_type": "markdown",
   "metadata": {},
   "source": [
    "### Resultados con datos de Amazon Reviews ###"
   ]
  },
  {
   "cell_type": "code",
   "execution_count": 213,
   "metadata": {},
   "outputs": [
    {
     "name": "stdout",
     "output_type": "stream",
     "text": [
      "              precision    recall  f1-score   support\n",
      "\n",
      "           0       0.43      0.01      0.01       448\n",
      "           1       0.50      0.99      0.66       448\n",
      "\n",
      "    accuracy                           0.50       896\n",
      "   macro avg       0.46      0.50      0.34       896\n",
      "weighted avg       0.46      0.50      0.34       896\n",
      "\n"
     ]
    }
   ],
   "source": [
    "from sklearn.metrics import classification_report\n",
    "print(classification_report(num_real, l))"
   ]
  },
  {
   "cell_type": "markdown",
   "metadata": {},
   "source": [
    "La precisión es muy baja, y de esto podemos concluir que el modelo entrenado para tweets no obtiene una buena precisión al aplicarse para otros casos. Para obtener mejores resultados, sería necesario re-entrenar el modelo con los datos de Amazon, así como se entrenó el modelo para Twitter. "
   ]
  },
  {
   "cell_type": "markdown",
   "metadata": {},
   "source": [
    "## Probando la red LSTM ##"
   ]
  },
  {
   "cell_type": "code",
   "execution_count": 12,
   "metadata": {},
   "outputs": [
    {
     "name": "stdout",
     "output_type": "stream",
     "text": [
      "WARNING:tensorflow:Model was constructed with shape (None, 30) for input Tensor(\"input_1_2:0\", shape=(None, 30), dtype=int32), but it was called on an input with incompatible shape (None, 50).\n",
      "[[0.6359477]\n",
      " [0.6096966]]\n",
      "['Positive', 'Positive']\n"
     ]
    }
   ],
   "source": [
    "from keras.models import load_model\n",
    "LSTM = load_model('LSTM.h5')\n",
    "\n",
    "from keras.preprocessing.sequence import pad_sequences\n",
    "sentence = [\"granny starting to fear spiders in the garden might be real\", \"game of thrones season finale showing this sunday night\"]\n",
    "sequences = tokenizer.texts_to_sequences(sentence)\n",
    "padded = pad_sequences(sequences, maxlen=50, padding='post', truncating='post')\n",
    "print(LSTM.predict(padded))\n",
    "\n",
    "def decode_sentiment(score):\n",
    "    return \"Positive\" if score>0.5 else \"Negative\"\n",
    "\n",
    "\n",
    "scores = LSTM.predict(padded)\n",
    "y_pred_1d = [decode_sentiment(score) for score in scores]\n",
    "print(y_pred_1d)"
   ]
  },
  {
   "attachments": {
    "Captura%20de%20Pantalla%202020-10-24%20a%20la%28s%29%2020.10.22.png": {
     "image/png": "[encoded data removed]"
    }
   },
   "cell_type": "markdown",
   "metadata": {},
   "source": [
    "### Precisión del modelo (ver notebook de LSTM para pasos detallados)  ![Captura%20de%20Pantalla%202020-10-24%20a%20la%28s%29%2020.10.22.png](attachment:Captura%20de%20Pantalla%202020-10-24%20a%20la%28s%29%2020.10.22.png)"
   ]
  },
  {
   "cell_type": "markdown",
   "metadata": {},
   "source": [
    "# Same model applied to Speech"
   ]
  },
  {
   "cell_type": "markdown",
   "metadata": {},
   "source": [
    "## Using Google spech recognition API "
   ]
  },
  {
   "cell_type": "code",
   "execution_count": null,
   "metadata": {},
   "outputs": [],
   "source": [
    "!pip install ffmpeg-python\n",
    "!pip3 install --upgrade google-cloud-speech"
   ]
  },
  {
   "cell_type": "markdown",
   "metadata": {},
   "source": [
    "### Read audio on colab"
   ]
  },
  {
   "cell_type": "code",
   "execution_count": null,
   "metadata": {},
   "outputs": [],
   "source": [
    "\"\"\"\n",
    "To write this piece of code I took inspiration/code from a lot of places.\n",
    "It was late night, so I'm not sure how much I created or just copied o.O\n",
    "Here are some of the possible references:\n",
    "https://blog.addpipe.com/recording-audio-in-the-browser-using-pure-html5-and-minimal-javascript/\n",
    "https://stackoverflow.com/a/18650249\n",
    "https://hacks.mozilla.org/2014/06/easy-audio-capture-with-the-mediarecorder-api/\n",
    "https://air.ghost.io/recording-to-an-audio-file-using-html5-and-js/\n",
    "https://stackoverflow.com/a/49019356\n",
    "\"\"\"\n",
    "from IPython.display import HTML, Audio\n",
    "from google.colab.output import eval_js\n",
    "from base64 import b64decode\n",
    "import numpy as np\n",
    "from scipy.io.wavfile import read as wav_read\n",
    "import io\n",
    "import ffmpeg\n",
    "\n",
    "AUDIO_HTML = \"\"\"\n",
    "<script>\n",
    "var my_div = document.createElement(\"DIV\");\n",
    "var my_p = document.createElement(\"P\");\n",
    "var my_btn = document.createElement(\"BUTTON\");\n",
    "var t = document.createTextNode(\"Press to start recording\");\n",
    "\n",
    "my_btn.appendChild(t);\n",
    "//my_p.appendChild(my_btn);\n",
    "my_div.appendChild(my_btn);\n",
    "document.body.appendChild(my_div);\n",
    "\n",
    "var base64data = 0;\n",
    "var reader;\n",
    "var recorder, gumStream;\n",
    "var recordButton = my_btn;\n",
    "\n",
    "var handleSuccess = function(stream) {\n",
    "  gumStream = stream;\n",
    "  var options = {\n",
    "    //bitsPerSecond: 8000, //chrome seems to ignore, always 48k\n",
    "    mimeType : 'audio/webm;codecs=opus'\n",
    "    //mimeType : 'audio/webm;codecs=pcm'\n",
    "  };            \n",
    "  //recorder = new MediaRecorder(stream, options);\n",
    "  recorder = new MediaRecorder(stream);\n",
    "  recorder.ondataavailable = function(e) {            \n",
    "    var url = URL.createObjectURL(e.data);\n",
    "    var preview = document.createElement('audio');\n",
    "    preview.controls = true;\n",
    "    preview.src = url;\n",
    "    document.body.appendChild(preview);\n",
    "\n",
    "    reader = new FileReader();\n",
    "    reader.readAsDataURL(e.data); \n",
    "    reader.onloadend = function() {\n",
    "      base64data = reader.result;\n",
    "      //console.log(\"Inside FileReader:\" + base64data);\n",
    "    }\n",
    "  };\n",
    "  recorder.start();\n",
    "  };\n",
    "\n",
    "recordButton.innerText = \"Recording... press to stop\";\n",
    "\n",
    "navigator.mediaDevices.getUserMedia({audio: true}).then(handleSuccess);\n",
    "\n",
    "\n",
    "function toggleRecording() {\n",
    "  if (recorder && recorder.state == \"recording\") {\n",
    "      recorder.stop();\n",
    "      gumStream.getAudioTracks()[0].stop();\n",
    "      recordButton.innerText = \"Saving the recording... pls wait!\"\n",
    "  }\n",
    "}\n",
    "\n",
    "// https://stackoverflow.com/a/951057\n",
    "function sleep(ms) {\n",
    "  return new Promise(resolve => setTimeout(resolve, ms));\n",
    "}\n",
    "\n",
    "var data = new Promise(resolve=>{\n",
    "//recordButton.addEventListener(\"click\", toggleRecording);\n",
    "recordButton.onclick = ()=>{\n",
    "toggleRecording()\n",
    "\n",
    "sleep(2000).then(() => {\n",
    "  // wait 2000ms for the data to be available...\n",
    "  // ideally this should use something like await...\n",
    "  //console.log(\"Inside data:\" + base64data)\n",
    "  resolve(base64data.toString())\n",
    "\n",
    "});\n",
    "\n",
    "}\n",
    "});\n",
    "      \n",
    "</script>\n",
    "\"\"\"\n",
    "\n",
    "def get_audio():\n",
    "  display(HTML(AUDIO_HTML))\n",
    "  data = eval_js(\"data\")\n",
    "  binary = b64decode(data.split(',')[1])\n",
    "  \n",
    "  process = (ffmpeg\n",
    "    .input('pipe:0')\n",
    "    .output('pipe:1', format='wav')\n",
    "    .run_async(pipe_stdin=True, pipe_stdout=True, pipe_stderr=True, quiet=True, overwrite_output=True)\n",
    "  )\n",
    "  output, err = process.communicate(input=binary)\n",
    "  \n",
    "  riff_chunk_size = len(output) - 8\n",
    "  # Break up the chunk size into four bytes, held in b.\n",
    "  q = riff_chunk_size\n",
    "  b = []\n",
    "  for i in range(4):\n",
    "      q, r = divmod(q, 256)\n",
    "      b.append(r)\n",
    "\n",
    "  # Replace bytes 4:8 in proc.stdout with the actual size of the RIFF chunk.\n",
    "  riff = output[:4] + bytes(b) + output[8:]\n",
    "\n",
    "  sr, audio = wav_read(io.BytesIO(riff))\n",
    "\n",
    "  return audio, sr"
   ]
  },
  {
   "cell_type": "code",
   "execution_count": null,
   "metadata": {},
   "outputs": [],
   "source": [
    "import scipy\n",
    "import wave\n",
    "from typing import Tuple\n",
    "audio, sr = get_audio()\n",
    "scipy.io.wavfile.write('recording.wav', sr, audio)\n",
    "\n",
    "def read_wav_file(filename) -> Tuple[bytes, int]:\n",
    "    with wave.open(filename, 'rb') as w:\n",
    "        rate = w.getframerate()\n",
    "        frames = w.getnframes()\n",
    "        buffer = w.readframes(frames)\n",
    "\n",
    "    return buffer, rate"
   ]
  },
  {
   "cell_type": "code",
   "execution_count": null,
   "metadata": {},
   "outputs": [],
   "source": [
    "# Credentials for google api\n",
    "os.environ['GOOGLE_APPLICATION_CREDENTIALS'] = 'SkillCortana-bbdb7e323697.json'\n",
    "from google.cloud import speech\n",
    "def recognize_audio(filename: str) -> str:\n",
    "    buffer, rate = read_wav_file(filename)\n",
    "    client = speech.SpeechClient()\n",
    "\n",
    "    config = {\n",
    "        'language_code': 'en-US',\n",
    "        'sample_rate_hertz': rate,\n",
    "        'encoding': speech.RecognitionConfig.AudioEncoding['LINEAR16']\n",
    "    }\n",
    "\n",
    "    audio = {\n",
    "        'content': buffer\n",
    "    }\n",
    "\n",
    "    response = client.recognize(config=config, audio=audio)\n",
    "    # For bigger audio file, the previous line can be replaced with following:\n",
    "    # operation = client.long_running_recognize(config, audio)\n",
    "    # response = operation.result()\n",
    "\n",
    "    for result in response.results:\n",
    "        # First alternative is the most probable result\n",
    "        alternative = result.alternatives[0]\n",
    "        return alternative.transcript"
   ]
  },
  {
   "cell_type": "markdown",
   "metadata": {},
   "source": [
    "### Convert speech and analyze text"
   ]
  },
  {
   "cell_type": "code",
   "execution_count": null,
   "metadata": {},
   "outputs": [],
   "source": [
    "text = recognize_audio(\"recording.wav\")\n",
    "print(text)\n",
    "sentiment_value, confidence = sentiment(text)\n",
    "print(text, sentiment_value, confidence)"
   ]
  },
  {
   "cell_type": "markdown",
   "metadata": {},
   "source": [
    "## Using Speech Recognition package"
   ]
  },
  {
   "cell_type": "code",
   "execution_count": 1,
   "metadata": {},
   "outputs": [
    {
     "name": "stdout",
     "output_type": "stream",
     "text": [
      "Requirement already satisfied: SpeechRecognition in c:\\users\\luis_\\anaconda3\\lib\\site-packages (3.8.1)\n",
      "Requirement already satisfied: PyAudio in c:\\users\\luis_\\anaconda3\\lib\\site-packages (0.2.11)\n"
     ]
    }
   ],
   "source": [
    "!pip install SpeechRecognition\n",
    "!pip install PyAudio"
   ]
  },
  {
   "cell_type": "markdown",
   "metadata": {},
   "source": [
    "### Read audio from Microphone"
   ]
  },
  {
   "cell_type": "code",
   "execution_count": 15,
   "metadata": {},
   "outputs": [],
   "source": [
    "import speech_recognition as sr\n",
    "r = sr.Recognizer()\n",
    "with sr.Microphone() as source:\n",
    "    audio = r.listen(source)"
   ]
  },
  {
   "cell_type": "markdown",
   "metadata": {},
   "source": [
    "### Convert speech and analyze text"
   ]
  },
  {
   "cell_type": "code",
   "execution_count": 14,
   "metadata": {},
   "outputs": [
    {
     "name": "stdout",
     "output_type": "stream",
     "text": [
      "Text recognized =  hello my friends I'm really happy to see you\n",
      "Sentiment analysis on the text =  Positive 1.0\n"
     ]
    }
   ],
   "source": [
    "text = r.recognize_google(audio)\n",
    "print(\"Text recognized = \", text)\n",
    "sentiment_value, confidence = sentiment(text)\n",
    "print(\"Sentiment analysis on the text = \", sentiment_value, confidence)"
   ]
  },
  {
   "cell_type": "code",
   "execution_count": 16,
   "metadata": {},
   "outputs": [
    {
     "name": "stdout",
     "output_type": "stream",
     "text": [
      "Text recognized =  they was an awful day for me\n",
      "Sentiment analysis on the text =  Negative 1.0\n"
     ]
    }
   ],
   "source": [
    "text = r.recognize_google(audio)\n",
    "print(\"Text recognized = \", text)\n",
    "sentiment_value, confidence = sentiment(text)\n",
    "print(\"Sentiment analysis on the text = \", sentiment_value, confidence)"
   ]
  },
  {
   "cell_type": "code",
   "execution_count": null,
   "metadata": {},
   "outputs": [],
   "source": []
  }
 ],
 "metadata": {
  "kernelspec": {
   "display_name": "Python 3",
   "language": "python",
   "name": "python3"
  },
  "language_info": {
   "codemirror_mode": {
    "name": "ipython",
    "version": 3
   },
   "file_extension": ".py",
   "mimetype": "text/x-python",
   "name": "python",
   "nbconvert_exporter": "python",
   "pygments_lexer": "ipython3",
   "version": "3.8.3"
  }
 },
 "nbformat": 4,
 "nbformat_minor": 4
}
